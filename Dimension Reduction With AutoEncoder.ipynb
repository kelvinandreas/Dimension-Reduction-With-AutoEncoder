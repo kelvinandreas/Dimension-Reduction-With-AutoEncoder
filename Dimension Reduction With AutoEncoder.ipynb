{
 "cells": [
  {
   "cell_type": "markdown",
   "id": "c8640405",
   "metadata": {},
   "source": [
    "# Dimension Reduction With AutoEncoder"
   ]
  },
  {
   "cell_type": "markdown",
   "id": "db36dc71",
   "metadata": {
    "id": "Q6CJq74vWAIK",
    "papermill": {
     "duration": 0.006297,
     "end_time": "2025-01-23T04:08:06.207458",
     "exception": false,
     "start_time": "2025-01-23T04:08:06.201161",
     "status": "completed"
    },
    "tags": []
   },
   "source": [
    "# Import Library"
   ]
  },
  {
   "cell_type": "code",
   "execution_count": 1,
   "id": "e2685f69",
   "metadata": {
    "execution": {
     "iopub.execute_input": "2025-01-23T04:08:06.221888Z",
     "iopub.status.busy": "2025-01-23T04:08:06.221603Z",
     "iopub.status.idle": "2025-01-23T04:08:19.016360Z",
     "shell.execute_reply": "2025-01-23T04:08:19.015522Z"
    },
    "executionInfo": {
     "elapsed": 551,
     "status": "ok",
     "timestamp": 1737444902344,
     "user": {
      "displayName": "Kelvin Andreas",
      "userId": "05154160222147907191"
     },
     "user_tz": -420
    },
    "id": "q44GZE4XXAEu",
    "papermill": {
     "duration": 12.804063,
     "end_time": "2025-01-23T04:08:19.017957",
     "exception": false,
     "start_time": "2025-01-23T04:08:06.213894",
     "status": "completed"
    },
    "tags": []
   },
   "outputs": [],
   "source": [
    "import os\n",
    "import gzip\n",
    "import requests\n",
    "import numpy as np\n",
    "import tensorflow as tf\n",
    "import matplotlib.pyplot as plt\n",
    "\n",
    "from sklearn.model_selection import ParameterGrid\n",
    "from sklearn.model_selection import train_test_split\n",
    "from skimage.metrics import structural_similarity as ssim\n",
    "\n",
    "from tensorflow.keras import layers, models\n",
    "from tensorflow.keras.optimizers import Adam\n",
    "from tensorflow.keras.callbacks import EarlyStopping"
   ]
  },
  {
   "cell_type": "markdown",
   "id": "ba31a102",
   "metadata": {
    "id": "HuU4T9CjV8-O",
    "papermill": {
     "duration": 0.006408,
     "end_time": "2025-01-23T04:08:19.031378",
     "exception": false,
     "start_time": "2025-01-23T04:08:19.024970",
     "status": "completed"
    },
    "tags": []
   },
   "source": [
    "# Define Constants and Parameters"
   ]
  },
  {
   "cell_type": "code",
   "execution_count": 2,
   "id": "7c5dd65d",
   "metadata": {
    "execution": {
     "iopub.execute_input": "2025-01-23T04:08:19.045532Z",
     "iopub.status.busy": "2025-01-23T04:08:19.045038Z",
     "iopub.status.idle": "2025-01-23T04:08:19.048432Z",
     "shell.execute_reply": "2025-01-23T04:08:19.047713Z"
    },
    "executionInfo": {
     "elapsed": 7,
     "status": "ok",
     "timestamp": 1737444902344,
     "user": {
      "displayName": "Kelvin Andreas",
      "userId": "05154160222147907191"
     },
     "user_tz": -420
    },
    "id": "NSMq8IjPW4xm",
    "papermill": {
     "duration": 0.011724,
     "end_time": "2025-01-23T04:08:19.049625",
     "exception": false,
     "start_time": "2025-01-23T04:08:19.037901",
     "status": "completed"
    },
    "tags": []
   },
   "outputs": [],
   "source": [
    "IMAGE_TRAIN_DATASET_PATH = 'http://fashion-mnist.s3-website.eu-central-1.amazonaws.com/train-images-idx3-ubyte.gz'\n",
    "LABEL_TRAIN_DATASET_PATH = 'http://fashion-mnist.s3-website.eu-central-1.amazonaws.com/train-labels-idx1-ubyte.gz'\n",
    "IMAGE_TEST_DATASET_PATH = 'http://fashion-mnist.s3-website.eu-central-1.amazonaws.com/t10k-images-idx3-ubyte.gz'\n",
    "LABEL_TEST_DATASET_PATH = 'http://fashion-mnist.s3-website.eu-central-1.amazonaws.com/t10k-labels-idx1-ubyte.gz'"
   ]
  },
  {
   "cell_type": "code",
   "execution_count": 3,
   "id": "edbb16cf",
   "metadata": {
    "execution": {
     "iopub.execute_input": "2025-01-23T04:08:19.063389Z",
     "iopub.status.busy": "2025-01-23T04:08:19.063140Z",
     "iopub.status.idle": "2025-01-23T04:08:19.066752Z",
     "shell.execute_reply": "2025-01-23T04:08:19.065930Z"
    },
    "executionInfo": {
     "elapsed": 6,
     "status": "ok",
     "timestamp": 1737444902344,
     "user": {
      "displayName": "Kelvin Andreas",
      "userId": "05154160222147907191"
     },
     "user_tz": -420
    },
    "id": "htnAFsDyICWw",
    "papermill": {
     "duration": 0.011986,
     "end_time": "2025-01-23T04:08:19.068148",
     "exception": false,
     "start_time": "2025-01-23T04:08:19.056162",
     "status": "completed"
    },
    "tags": []
   },
   "outputs": [],
   "source": [
    "CLASS_NAMES = {\n",
    "    0: 'T-shirt/top',\n",
    "    1: 'Trouser',\n",
    "    2: 'Pullover',\n",
    "    3: 'Dress',\n",
    "    4: 'Coat',\n",
    "    5: 'Sandal',\n",
    "    6: 'Shirt',\n",
    "    7: 'Sneaker',\n",
    "    8: 'Bag',\n",
    "    9: 'Ankle boot'\n",
    "}"
   ]
  },
  {
   "cell_type": "code",
   "execution_count": 4,
   "id": "44a283fb",
   "metadata": {
    "execution": {
     "iopub.execute_input": "2025-01-23T04:08:19.082202Z",
     "iopub.status.busy": "2025-01-23T04:08:19.081936Z",
     "iopub.status.idle": "2025-01-23T04:08:19.085219Z",
     "shell.execute_reply": "2025-01-23T04:08:19.084437Z"
    },
    "executionInfo": {
     "elapsed": 6,
     "status": "ok",
     "timestamp": 1737444902344,
     "user": {
      "displayName": "Kelvin Andreas",
      "userId": "05154160222147907191"
     },
     "user_tz": -420
    },
    "id": "U8xPiXlLcnCs",
    "papermill": {
     "duration": 0.011598,
     "end_time": "2025-01-23T04:08:19.086422",
     "exception": false,
     "start_time": "2025-01-23T04:08:19.074824",
     "status": "completed"
    },
    "tags": []
   },
   "outputs": [],
   "source": [
    "config = {\n",
    "    \"learning_rate\": 0.0001,\n",
    "    \"batch_size\": 128,\n",
    "    \"epochs\": 100,\n",
    "}"
   ]
  },
  {
   "cell_type": "markdown",
   "id": "6db178c4",
   "metadata": {
    "id": "99AdKgSkWCX0",
    "papermill": {
     "duration": 0.006783,
     "end_time": "2025-01-23T04:08:19.100402",
     "exception": false,
     "start_time": "2025-01-23T04:08:19.093619",
     "status": "completed"
    },
    "tags": []
   },
   "source": [
    "# a. Load Dataset, EDA, and Splitting"
   ]
  },
  {
   "cell_type": "code",
   "execution_count": 5,
   "id": "536ceb18",
   "metadata": {
    "execution": {
     "iopub.execute_input": "2025-01-23T04:08:19.114764Z",
     "iopub.status.busy": "2025-01-23T04:08:19.114534Z",
     "iopub.status.idle": "2025-01-23T04:08:24.492645Z",
     "shell.execute_reply": "2025-01-23T04:08:24.491671Z"
    },
    "executionInfo": {
     "elapsed": 822,
     "status": "ok",
     "timestamp": 1737444903160,
     "user": {
      "displayName": "Kelvin Andreas",
      "userId": "05154160222147907191"
     },
     "user_tz": -420
    },
    "id": "dQnOtm2IXMlz",
    "outputId": "ece64e8c-9a40-47a4-98a8-23655f8cd80e",
    "papermill": {
     "duration": 5.38664,
     "end_time": "2025-01-23T04:08:24.494037",
     "exception": false,
     "start_time": "2025-01-23T04:08:19.107397",
     "status": "completed"
    },
    "tags": []
   },
   "outputs": [
    {
     "name": "stdout",
     "output_type": "stream",
     "text": [
      "Downloading train-images-idx3-ubyte.gz...\n",
      "Downloading train-labels-idx1-ubyte.gz...\n",
      "Downloading t10k-images-idx3-ubyte.gz...\n",
      "Downloading t10k-labels-idx1-ubyte.gz...\n",
      "Images shape: (70000, 28, 28), Labels shape: (70000,)\n"
     ]
    }
   ],
   "source": [
    "# Load Dataset\n",
    "image_list = []\n",
    "label_list = []\n",
    "\n",
    "def download_and_extract_data(url, filename):\n",
    "    if not os.path.exists(filename):\n",
    "        print(f\"Downloading {filename}...\")\n",
    "        response = requests.get(url)\n",
    "        with open(filename, 'wb') as f:\n",
    "            f.write(response.content)\n",
    "    with gzip.open(filename, 'rb') as f:\n",
    "        data = np.frombuffer(f.read(), dtype=np.uint8, offset=16 if 'images' in filename else 8)\n",
    "    return data\n",
    "\n",
    "train_images = download_and_extract_data(IMAGE_TRAIN_DATASET_PATH, 'train-images-idx3-ubyte.gz').reshape(-1, 28, 28)\n",
    "train_labels = download_and_extract_data(LABEL_TRAIN_DATASET_PATH, 'train-labels-idx1-ubyte.gz')\n",
    "test_images = download_and_extract_data(IMAGE_TEST_DATASET_PATH, 't10k-images-idx3-ubyte.gz').reshape(-1, 28, 28)\n",
    "test_labels = download_and_extract_data(LABEL_TEST_DATASET_PATH, 't10k-labels-idx1-ubyte.gz')\n",
    "\n",
    "image_list = np.concatenate((train_images, test_images), axis=0)\n",
    "label_list = np.concatenate((train_labels, test_labels), axis=0)\n",
    "\n",
    "image_list = image_list.astype('float32') / 255.0\n",
    "image_list = np.array(image_list)\n",
    "label_list = np.array(label_list)\n",
    "\n",
    "print(f\"Images shape: {image_list.shape}, Labels shape: {label_list.shape}\")"
   ]
  },
  {
   "cell_type": "code",
   "execution_count": 6,
   "id": "c9071723",
   "metadata": {
    "execution": {
     "iopub.execute_input": "2025-01-23T04:08:24.508862Z",
     "iopub.status.busy": "2025-01-23T04:08:24.508606Z",
     "iopub.status.idle": "2025-01-23T04:08:24.810032Z",
     "shell.execute_reply": "2025-01-23T04:08:24.809199Z"
    },
    "executionInfo": {
     "elapsed": 433,
     "status": "ok",
     "timestamp": 1737444903590,
     "user": {
      "displayName": "Kelvin Andreas",
      "userId": "05154160222147907191"
     },
     "user_tz": -420
    },
    "id": "JrYCmh3cZLEb",
    "outputId": "3531e88d-d91b-4a46-a3ab-afdf3e281ace",
    "papermill": {
     "duration": 0.310062,
     "end_time": "2025-01-23T04:08:24.811374",
     "exception": false,
     "start_time": "2025-01-23T04:08:24.501312",
     "status": "completed"
    },
    "tags": []
   },
   "outputs": [
    {
     "data": {
      "image/png": "[encoded data removed]",
      "text/plain": [
       "<Figure size 1000x600 with 1 Axes>"
      ]
     },
     "metadata": {},
     "output_type": "display_data"
    }
   ],
   "source": [
    "def plot_label_distribution(labels):\n",
    "    plt.figure(figsize=(10, 6))\n",
    "    plt.hist(labels, bins=10, rwidth=0.8, color='skyblue', edgecolor='black')\n",
    "    plt.xticks(range(10), [CLASS_NAMES[i] for i in range(10)], rotation=45, ha='right')\n",
    "    plt.title(\"Distribution of Labels in Dataset\", fontsize=16)\n",
    "    plt.xlabel(\"Class\", fontsize=14)\n",
    "    plt.ylabel(\"Number of Samples\", fontsize=14)\n",
    "    plt.grid(axis='y', linestyle='--', alpha=0.7)\n",
    "    plt.tight_layout()\n",
    "    plt.show()\n",
    "\n",
    "plot_label_distribution(label_list)"
   ]
  },
  {
   "cell_type": "code",
   "execution_count": 8,
   "id": "beff82a8",
   "metadata": {
    "execution": {
     "iopub.execute_input": "2025-01-23T04:08:24.849138Z",
     "iopub.status.busy": "2025-01-23T04:08:24.848887Z",
     "iopub.status.idle": "2025-01-23T04:08:25.073455Z",
     "shell.execute_reply": "2025-01-23T04:08:25.072047Z"
    },
    "executionInfo": {
     "elapsed": 13,
     "status": "ok",
     "timestamp": 1737444904188,
     "user": {
      "displayName": "Kelvin Andreas",
      "userId": "05154160222147907191"
     },
     "user_tz": -420
    },
    "id": "9W2IiMuIIhPH",
    "papermill": {
     "duration": 0.234507,
     "end_time": "2025-01-23T04:08:25.075289",
     "exception": false,
     "start_time": "2025-01-23T04:08:24.840782",
     "status": "completed"
    },
    "tags": []
   },
   "outputs": [
    {
     "data": {
      "image/png": "[encoded data removed]",
      "text/plain": [
       "<Figure size 1000x600 with 1 Axes>"
      ]
     },
     "metadata": {},
     "output_type": "display_data"
    }
   ],
   "source": [
    "coat_and_sandal_mask = (label_list == 4) | (label_list == 5)\n",
    "filtered_images = image_list[coat_and_sandal_mask]\n",
    "filtered_labels = label_list[coat_and_sandal_mask]\n",
    "\n",
    "plot_label_distribution(filtered_labels)"
   ]
  },
  {
   "cell_type": "code",
   "execution_count": 9,
   "id": "5d9792e5",
   "metadata": {
    "execution": {
     "iopub.execute_input": "2025-01-23T04:08:25.098229Z",
     "iopub.status.busy": "2025-01-23T04:08:25.097931Z",
     "iopub.status.idle": "2025-01-23T04:08:25.768424Z",
     "shell.execute_reply": "2025-01-23T04:08:25.767467Z"
    },
    "executionInfo": {
     "elapsed": 1085,
     "status": "ok",
     "timestamp": 1737444905261,
     "user": {
      "displayName": "Kelvin Andreas",
      "userId": "05154160222147907191"
     },
     "user_tz": -420
    },
    "id": "S1TmDXK2JgxW",
    "outputId": "5089c7c5-dc52-45b9-d585-6a0dc54f1290",
    "papermill": {
     "duration": 0.681825,
     "end_time": "2025-01-23T04:08:25.770107",
     "exception": false,
     "start_time": "2025-01-23T04:08:25.088282",
     "status": "completed"
    },
    "tags": []
   },
   "outputs": [
    {
     "data": {
      "image/png": "[encoded data removed]",
      "text/plain": [
       "<Figure size 1500x600 with 10 Axes>"
      ]
     },
     "metadata": {},
     "output_type": "display_data"
    }
   ],
   "source": [
    "images_to_plot = np.vstack([filtered_images[filtered_labels == 4][:5], filtered_images[filtered_labels == 5][:5]])\n",
    "\n",
    "plt.figure(figsize=(15, 6))\n",
    "for i, img in enumerate(images_to_plot):\n",
    "    plt.subplot(2, 5, i + 1)\n",
    "    plt.imshow(img, cmap='gray')\n",
    "    plt.title(\"Coat\" if i < 5 else \"Sandal\")\n",
    "    plt.axis('off')\n",
    "\n",
    "plt.tight_layout()\n",
    "plt.show()"
   ]
  },
  {
   "cell_type": "code",
   "execution_count": 10,
   "id": "af9f4efd",
   "metadata": {
    "execution": {
     "iopub.execute_input": "2025-01-23T04:08:25.789585Z",
     "iopub.status.busy": "2025-01-23T04:08:25.789350Z",
     "iopub.status.idle": "2025-01-23T04:08:25.817450Z",
     "shell.execute_reply": "2025-01-23T04:08:25.816433Z"
    },
    "executionInfo": {
     "elapsed": 13,
     "status": "ok",
     "timestamp": 1737444905262,
     "user": {
      "displayName": "Kelvin Andreas",
      "userId": "05154160222147907191"
     },
     "user_tz": -420
    },
    "id": "Nn53NQY2ZNsb",
    "outputId": "c087ebcf-9a63-4dd4-f686-ed49cda5987f",
    "papermill": {
     "duration": 0.039207,
     "end_time": "2025-01-23T04:08:25.818861",
     "exception": false,
     "start_time": "2025-01-23T04:08:25.779654",
     "status": "completed"
    },
    "tags": []
   },
   "outputs": [
    {
     "name": "stdout",
     "output_type": "stream",
     "text": [
      "Training Set: 11200 gambar (80.0%)\n",
      "  Class Coat: 5600 samples\n",
      "  Class Sandal: 5600 samples\n",
      "\n",
      "Validation Set: 1400 gambar (10.0%)\n",
      "  Class Coat: 700 samples\n",
      "  Class Sandal: 700 samples\n",
      "\n",
      "Test Set: 1400 gambar (10.0%)\n",
      "  Class Coat: 700 samples\n",
      "  Class Sandal: 700 samples\n",
      "\n"
     ]
    }
   ],
   "source": [
    "# Splitting 80:10:10, stratify\n",
    "X_train, X_temp, y_train, y_temp = train_test_split(\n",
    "    filtered_images,\n",
    "    filtered_labels,\n",
    "    test_size=0.2,\n",
    "    random_state=42,\n",
    "    stratify=filtered_labels\n",
    ")\n",
    "\n",
    "X_val, X_test, y_val, y_test = train_test_split(\n",
    "    X_temp,\n",
    "    y_temp,\n",
    "    test_size=0.5,\n",
    "    random_state=42,\n",
    "    stratify=y_temp\n",
    ")\n",
    "\n",
    "def print_subset_info(images, labels, subset_name):\n",
    "    total_samples = len(images)\n",
    "    percentage = (total_samples / len(filtered_images)) * 100\n",
    "    print(f\"{subset_name}: {total_samples} gambar ({percentage:.1f}%)\")\n",
    "    unique_classes, counts = np.unique(labels, return_counts=True)\n",
    "    for cls, count in zip(unique_classes, counts):\n",
    "        print(f\"  Class {CLASS_NAMES[cls]}: {count} samples\")\n",
    "    print()\n",
    "\n",
    "print_subset_info(X_train, y_train, \"Training Set\")\n",
    "print_subset_info(X_val, y_val, \"Validation Set\")\n",
    "print_subset_info(X_test, y_test, \"Test Set\")"
   ]
  },
  {
   "cell_type": "markdown",
   "id": "b280002d",
   "metadata": {
    "id": "sfVAIjc_WOYa",
    "papermill": {
     "duration": 0.008948,
     "end_time": "2025-01-23T04:08:25.837290",
     "exception": false,
     "start_time": "2025-01-23T04:08:25.828342",
     "status": "completed"
    },
    "tags": []
   },
   "source": [
    "# b. Define model, train, and evaluate"
   ]
  },
  {
   "cell_type": "code",
   "execution_count": 11,
   "id": "220a99e1",
   "metadata": {
    "execution": {
     "iopub.execute_input": "2025-01-23T04:08:25.856828Z",
     "iopub.status.busy": "2025-01-23T04:08:25.856545Z",
     "iopub.status.idle": "2025-01-23T04:08:25.864043Z",
     "shell.execute_reply": "2025-01-23T04:08:25.863227Z"
    },
    "executionInfo": {
     "elapsed": 11,
     "status": "ok",
     "timestamp": 1737444905262,
     "user": {
      "displayName": "Kelvin Andreas",
      "userId": "05154160222147907191"
     },
     "user_tz": -420
    },
    "id": "w-NYJVjCXTWt",
    "papermill": {
     "duration": 0.018926,
     "end_time": "2025-01-23T04:08:25.865371",
     "exception": false,
     "start_time": "2025-01-23T04:08:25.846445",
     "status": "completed"
    },
    "tags": []
   },
   "outputs": [],
   "source": [
    "# Define AutoEncoder Class\n",
    "class AutoEncoder:\n",
    "    def __init__(self, input_shape=(28, 28, 1), latent_dim=128):\n",
    "        self.input_shape = input_shape\n",
    "        self.latent_dim = latent_dim\n",
    "        self.encoder = self.build_encoder()\n",
    "        self.decoder = self.build_decoder()\n",
    "        self.autoencoder = self.build_autoencoder()\n",
    "\n",
    "    def build_encoder(self):\n",
    "        inputs = layers.Input(shape=self.input_shape, name=\"encoder_input\")\n",
    "        x = layers.Conv2D(32, (3, 3), activation=\"relu\", padding=\"same\")(inputs)\n",
    "        x = layers.MaxPooling2D((2, 2), padding=\"same\")(x)\n",
    "        x = layers.Flatten()(x)\n",
    "        outputs = layers.Dense(self.latent_dim, activation=\"relu\", name=\"latent_vector\")(x)\n",
    "        return models.Model(inputs, outputs, name=\"encoder\")\n",
    "\n",
    "    def build_decoder(self):\n",
    "        inputs = layers.Input(shape=(self.latent_dim,), name=\"decoder_input\")\n",
    "        x = layers.Dense(6272, activation=\"relu\")(inputs)\n",
    "        x = layers.Reshape((14, 14, 32))(x)\n",
    "        x = layers.UpSampling2D((2, 2))(x)\n",
    "        x = layers.Conv2D(32, (3, 3), activation=\"relu\", padding=\"same\")(x)\n",
    "        outputs = layers.Conv2D(1, (3, 3), activation=\"sigmoid\", padding=\"same\")(x)\n",
    "\n",
    "        return models.Model(inputs, outputs, name=\"decoder\")\n",
    "\n",
    "    def build_autoencoder(self):\n",
    "        inputs = layers.Input(shape=self.input_shape, name=\"autoencoder_input\")\n",
    "        encoded = self.encoder(inputs)\n",
    "        decoded = self.decoder(encoded)\n",
    "        return models.Model(inputs, decoded, name=\"autoencoder\")"
   ]
  },
  {
   "cell_type": "code",
   "execution_count": 12,
   "id": "f000c123",
   "metadata": {
    "execution": {
     "iopub.execute_input": "2025-01-23T04:08:25.884391Z",
     "iopub.status.busy": "2025-01-23T04:08:25.884145Z",
     "iopub.status.idle": "2025-01-23T04:08:27.993966Z",
     "shell.execute_reply": "2025-01-23T04:08:27.993309Z"
    },
    "executionInfo": {
     "elapsed": 10,
     "status": "ok",
     "timestamp": 1737444905262,
     "user": {
      "displayName": "Kelvin Andreas",
      "userId": "05154160222147907191"
     },
     "user_tz": -420
    },
    "id": "kOU6VTHeMhAK",
    "papermill": {
     "duration": 2.121062,
     "end_time": "2025-01-23T04:08:27.995554",
     "exception": false,
     "start_time": "2025-01-23T04:08:25.874492",
     "status": "completed"
    },
    "tags": []
   },
   "outputs": [],
   "source": [
    "autoencoder = AutoEncoder(input_shape=(28, 28, 1), latent_dim=128)\n",
    "autoencoder.autoencoder.compile(optimizer=Adam(learning_rate=config[\"learning_rate\"]), loss=\"binary_crossentropy\")"
   ]
  },
  {
   "cell_type": "code",
   "execution_count": 13,
   "id": "49b0d80d",
   "metadata": {
    "execution": {
     "iopub.execute_input": "2025-01-23T04:08:28.015355Z",
     "iopub.status.busy": "2025-01-23T04:08:28.015050Z",
     "iopub.status.idle": "2025-01-23T04:08:28.030706Z",
     "shell.execute_reply": "2025-01-23T04:08:28.029887Z"
    },
    "executionInfo": {
     "elapsed": 1400,
     "status": "ok",
     "timestamp": 1737444906653,
     "user": {
      "displayName": "Kelvin Andreas",
      "userId": "05154160222147907191"
     },
     "user_tz": -420
    },
    "id": "NJDDWlhYND9h",
    "outputId": "417ebbef-6868-4bf4-df9a-b43251f45191",
    "papermill": {
     "duration": 0.02671,
     "end_time": "2025-01-23T04:08:28.031881",
     "exception": false,
     "start_time": "2025-01-23T04:08:28.005171",
     "status": "completed"
    },
    "tags": []
   },
   "outputs": [
    {
     "name": "stdout",
     "output_type": "stream",
     "text": [
      "Encoder Summary:\n"
     ]
    },
    {
     "data": {
      "text/html": [
       "<pre style=\"white-space:pre;overflow-x:auto;line-height:normal;font-family:Menlo,'DejaVu Sans Mono',consolas,'Courier New',monospace\"><span style=\"font-weight: bold\">Model: \"encoder\"</span>\n",
       "</pre>\n"
      ],
      "text/plain": [
       "\u001b[1mModel: \"encoder\"\u001b[0m\n"
      ]
     },
     "metadata": {},
     "output_type": "display_data"
    },
    {
     "data": {
      "text/html": [
       "<pre style=\"white-space:pre;overflow-x:auto;line-height:normal;font-family:Menlo,'DejaVu Sans Mono',consolas,'Courier New',monospace\">┏━━━━━━━━━━━━━━━━━━━━━━━━━━━━━━━━━━━━━━┳━━━━━━━━━━━━━━━━━━━━━━━━━━━━━┳━━━━━━━━━━━━━━━━━┓\n",
       "┃<span style=\"font-weight: bold\"> Layer (type)                         </span>┃<span style=\"font-weight: bold\"> Output Shape                </span>┃<span style=\"font-weight: bold\">         Param # </span>┃\n",
       "┡━━━━━━━━━━━━━━━━━━━━━━━━━━━━━━━━━━━━━━╇━━━━━━━━━━━━━━━━━━━━━━━━━━━━━╇━━━━━━━━━━━━━━━━━┩\n",
       "│ encoder_input (<span style=\"color: #0087ff; text-decoration-color: #0087ff\">InputLayer</span>)           │ (<span style=\"color: #00d7ff; text-decoration-color: #00d7ff\">None</span>, <span style=\"color: #00af00; text-decoration-color: #00af00\">28</span>, <span style=\"color: #00af00; text-decoration-color: #00af00\">28</span>, <span style=\"color: #00af00; text-decoration-color: #00af00\">1</span>)           │               <span style=\"color: #00af00; text-decoration-color: #00af00\">0</span> │\n",
       "├──────────────────────────────────────┼─────────────────────────────┼─────────────────┤\n",
       "│ conv2d (<span style=\"color: #0087ff; text-decoration-color: #0087ff\">Conv2D</span>)                      │ (<span style=\"color: #00d7ff; text-decoration-color: #00d7ff\">None</span>, <span style=\"color: #00af00; text-decoration-color: #00af00\">28</span>, <span style=\"color: #00af00; text-decoration-color: #00af00\">28</span>, <span style=\"color: #00af00; text-decoration-color: #00af00\">32</span>)          │             <span style=\"color: #00af00; text-decoration-color: #00af00\">320</span> │\n",
       "├──────────────────────────────────────┼─────────────────────────────┼─────────────────┤\n",
       "│ max_pooling2d (<span style=\"color: #0087ff; text-decoration-color: #0087ff\">MaxPooling2D</span>)         │ (<span style=\"color: #00d7ff; text-decoration-color: #00d7ff\">None</span>, <span style=\"color: #00af00; text-decoration-color: #00af00\">14</span>, <span style=\"color: #00af00; text-decoration-color: #00af00\">14</span>, <span style=\"color: #00af00; text-decoration-color: #00af00\">32</span>)          │               <span style=\"color: #00af00; text-decoration-color: #00af00\">0</span> │\n",
       "├──────────────────────────────────────┼─────────────────────────────┼─────────────────┤\n",
       "│ flatten (<span style=\"color: #0087ff; text-decoration-color: #0087ff\">Flatten</span>)                    │ (<span style=\"color: #00d7ff; text-decoration-color: #00d7ff\">None</span>, <span style=\"color: #00af00; text-decoration-color: #00af00\">6272</span>)                │               <span style=\"color: #00af00; text-decoration-color: #00af00\">0</span> │\n",
       "├──────────────────────────────────────┼─────────────────────────────┼─────────────────┤\n",
       "│ latent_vector (<span style=\"color: #0087ff; text-decoration-color: #0087ff\">Dense</span>)                │ (<span style=\"color: #00d7ff; text-decoration-color: #00d7ff\">None</span>, <span style=\"color: #00af00; text-decoration-color: #00af00\">128</span>)                 │         <span style=\"color: #00af00; text-decoration-color: #00af00\">802,944</span> │\n",
       "└──────────────────────────────────────┴─────────────────────────────┴─────────────────┘\n",
       "</pre>\n"
      ],
      "text/plain": [
       "┏━━━━━━━━━━━━━━━━━━━━━━━━━━━━━━━━━━━━━━┳━━━━━━━━━━━━━━━━━━━━━━━━━━━━━┳━━━━━━━━━━━━━━━━━┓\n",
       "┃\u001b[1m \u001b[0m\u001b[1mLayer (type)                        \u001b[0m\u001b[1m \u001b[0m┃\u001b[1m \u001b[0m\u001b[1mOutput Shape               \u001b[0m\u001b[1m \u001b[0m┃\u001b[1m \u001b[0m\u001b[1m        Param #\u001b[0m\u001b[1m \u001b[0m┃\n",
       "┡━━━━━━━━━━━━━━━━━━━━━━━━━━━━━━━━━━━━━━╇━━━━━━━━━━━━━━━━━━━━━━━━━━━━━╇━━━━━━━━━━━━━━━━━┩\n",
       "│ encoder_input (\u001b[38;5;33mInputLayer\u001b[0m)           │ (\u001b[38;5;45mNone\u001b[0m, \u001b[38;5;34m28\u001b[0m, \u001b[38;5;34m28\u001b[0m, \u001b[38;5;34m1\u001b[0m)           │               \u001b[38;5;34m0\u001b[0m │\n",
       "├──────────────────────────────────────┼─────────────────────────────┼─────────────────┤\n",
       "│ conv2d (\u001b[38;5;33mConv2D\u001b[0m)                      │ (\u001b[38;5;45mNone\u001b[0m, \u001b[38;5;34m28\u001b[0m, \u001b[38;5;34m28\u001b[0m, \u001b[38;5;34m32\u001b[0m)          │             \u001b[38;5;34m320\u001b[0m │\n",
       "├──────────────────────────────────────┼─────────────────────────────┼─────────────────┤\n",
       "│ max_pooling2d (\u001b[38;5;33mMaxPooling2D\u001b[0m)         │ (\u001b[38;5;45mNone\u001b[0m, \u001b[38;5;34m14\u001b[0m, \u001b[38;5;34m14\u001b[0m, \u001b[38;5;34m32\u001b[0m)          │               \u001b[38;5;34m0\u001b[0m │\n",
       "├──────────────────────────────────────┼─────────────────────────────┼─────────────────┤\n",
       "│ flatten (\u001b[38;5;33mFlatten\u001b[0m)                    │ (\u001b[38;5;45mNone\u001b[0m, \u001b[38;5;34m6272\u001b[0m)                │               \u001b[38;5;34m0\u001b[0m │\n",
       "├──────────────────────────────────────┼─────────────────────────────┼─────────────────┤\n",
       "│ latent_vector (\u001b[38;5;33mDense\u001b[0m)                │ (\u001b[38;5;45mNone\u001b[0m, \u001b[38;5;34m128\u001b[0m)                 │         \u001b[38;5;34m802,944\u001b[0m │\n",
       "└──────────────────────────────────────┴─────────────────────────────┴─────────────────┘\n"
      ]
     },
     "metadata": {},
     "output_type": "display_data"
    },
    {
     "data": {
      "text/html": [
       "<pre style=\"white-space:pre;overflow-x:auto;line-height:normal;font-family:Menlo,'DejaVu Sans Mono',consolas,'Courier New',monospace\"><span style=\"font-weight: bold\"> Total params: </span><span style=\"color: #00af00; text-decoration-color: #00af00\">803,264</span> (3.06 MB)\n",
       "</pre>\n"
      ],
      "text/plain": [
       "\u001b[1m Total params: \u001b[0m\u001b[38;5;34m803,264\u001b[0m (3.06 MB)\n"
      ]
     },
     "metadata": {},
     "output_type": "display_data"
    },
    {
     "data": {
      "text/html": [
       "<pre style=\"white-space:pre;overflow-x:auto;line-height:normal;font-family:Menlo,'DejaVu Sans Mono',consolas,'Courier New',monospace\"><span style=\"font-weight: bold\"> Trainable params: </span><span style=\"color: #00af00; text-decoration-color: #00af00\">803,264</span> (3.06 MB)\n",
       "</pre>\n"
      ],
      "text/plain": [
       "\u001b[1m Trainable params: \u001b[0m\u001b[38;5;34m803,264\u001b[0m (3.06 MB)\n"
      ]
     },
     "metadata": {},
     "output_type": "display_data"
    },
    {
     "data": {
      "text/html": [
       "<pre style=\"white-space:pre;overflow-x:auto;line-height:normal;font-family:Menlo,'DejaVu Sans Mono',consolas,'Courier New',monospace\"><span style=\"font-weight: bold\"> Non-trainable params: </span><span style=\"color: #00af00; text-decoration-color: #00af00\">0</span> (0.00 B)\n",
       "</pre>\n"
      ],
      "text/plain": [
       "\u001b[1m Non-trainable params: \u001b[0m\u001b[38;5;34m0\u001b[0m (0.00 B)\n"
      ]
     },
     "metadata": {},
     "output_type": "display_data"
    }
   ],
   "source": [
    "print(\"Encoder Summary:\")\n",
    "autoencoder.encoder.summary()"
   ]
  },
  {
   "cell_type": "code",
   "execution_count": 14,
   "id": "caceb660",
   "metadata": {
    "execution": {
     "iopub.execute_input": "2025-01-23T04:08:28.052605Z",
     "iopub.status.busy": "2025-01-23T04:08:28.052357Z",
     "iopub.status.idle": "2025-01-23T04:08:28.068542Z",
     "shell.execute_reply": "2025-01-23T04:08:28.067751Z"
    },
    "papermill": {
     "duration": 0.027741,
     "end_time": "2025-01-23T04:08:28.069720",
     "exception": false,
     "start_time": "2025-01-23T04:08:28.041979",
     "status": "completed"
    },
    "tags": []
   },
   "outputs": [
    {
     "name": "stdout",
     "output_type": "stream",
     "text": [
      "Decoder Summary:\n"
     ]
    },
    {
     "data": {
      "text/html": [
       "<pre style=\"white-space:pre;overflow-x:auto;line-height:normal;font-family:Menlo,'DejaVu Sans Mono',consolas,'Courier New',monospace\"><span style=\"font-weight: bold\">Model: \"decoder\"</span>\n",
       "</pre>\n"
      ],
      "text/plain": [
       "\u001b[1mModel: \"decoder\"\u001b[0m\n"
      ]
     },
     "metadata": {},
     "output_type": "display_data"
    },
    {
     "data": {
      "text/html": [
       "<pre style=\"white-space:pre;overflow-x:auto;line-height:normal;font-family:Menlo,'DejaVu Sans Mono',consolas,'Courier New',monospace\">┏━━━━━━━━━━━━━━━━━━━━━━━━━━━━━━━━━━━━━━┳━━━━━━━━━━━━━━━━━━━━━━━━━━━━━┳━━━━━━━━━━━━━━━━━┓\n",
       "┃<span style=\"font-weight: bold\"> Layer (type)                         </span>┃<span style=\"font-weight: bold\"> Output Shape                </span>┃<span style=\"font-weight: bold\">         Param # </span>┃\n",
       "┡━━━━━━━━━━━━━━━━━━━━━━━━━━━━━━━━━━━━━━╇━━━━━━━━━━━━━━━━━━━━━━━━━━━━━╇━━━━━━━━━━━━━━━━━┩\n",
       "│ decoder_input (<span style=\"color: #0087ff; text-decoration-color: #0087ff\">InputLayer</span>)           │ (<span style=\"color: #00d7ff; text-decoration-color: #00d7ff\">None</span>, <span style=\"color: #00af00; text-decoration-color: #00af00\">128</span>)                 │               <span style=\"color: #00af00; text-decoration-color: #00af00\">0</span> │\n",
       "├──────────────────────────────────────┼─────────────────────────────┼─────────────────┤\n",
       "│ dense (<span style=\"color: #0087ff; text-decoration-color: #0087ff\">Dense</span>)                        │ (<span style=\"color: #00d7ff; text-decoration-color: #00d7ff\">None</span>, <span style=\"color: #00af00; text-decoration-color: #00af00\">6272</span>)                │         <span style=\"color: #00af00; text-decoration-color: #00af00\">809,088</span> │\n",
       "├──────────────────────────────────────┼─────────────────────────────┼─────────────────┤\n",
       "│ reshape (<span style=\"color: #0087ff; text-decoration-color: #0087ff\">Reshape</span>)                    │ (<span style=\"color: #00d7ff; text-decoration-color: #00d7ff\">None</span>, <span style=\"color: #00af00; text-decoration-color: #00af00\">14</span>, <span style=\"color: #00af00; text-decoration-color: #00af00\">14</span>, <span style=\"color: #00af00; text-decoration-color: #00af00\">32</span>)          │               <span style=\"color: #00af00; text-decoration-color: #00af00\">0</span> │\n",
       "├──────────────────────────────────────┼─────────────────────────────┼─────────────────┤\n",
       "│ up_sampling2d (<span style=\"color: #0087ff; text-decoration-color: #0087ff\">UpSampling2D</span>)         │ (<span style=\"color: #00d7ff; text-decoration-color: #00d7ff\">None</span>, <span style=\"color: #00af00; text-decoration-color: #00af00\">28</span>, <span style=\"color: #00af00; text-decoration-color: #00af00\">28</span>, <span style=\"color: #00af00; text-decoration-color: #00af00\">32</span>)          │               <span style=\"color: #00af00; text-decoration-color: #00af00\">0</span> │\n",
       "├──────────────────────────────────────┼─────────────────────────────┼─────────────────┤\n",
       "│ conv2d_1 (<span style=\"color: #0087ff; text-decoration-color: #0087ff\">Conv2D</span>)                    │ (<span style=\"color: #00d7ff; text-decoration-color: #00d7ff\">None</span>, <span style=\"color: #00af00; text-decoration-color: #00af00\">28</span>, <span style=\"color: #00af00; text-decoration-color: #00af00\">28</span>, <span style=\"color: #00af00; text-decoration-color: #00af00\">32</span>)          │           <span style=\"color: #00af00; text-decoration-color: #00af00\">9,248</span> │\n",
       "├──────────────────────────────────────┼─────────────────────────────┼─────────────────┤\n",
       "│ conv2d_2 (<span style=\"color: #0087ff; text-decoration-color: #0087ff\">Conv2D</span>)                    │ (<span style=\"color: #00d7ff; text-decoration-color: #00d7ff\">None</span>, <span style=\"color: #00af00; text-decoration-color: #00af00\">28</span>, <span style=\"color: #00af00; text-decoration-color: #00af00\">28</span>, <span style=\"color: #00af00; text-decoration-color: #00af00\">1</span>)           │             <span style=\"color: #00af00; text-decoration-color: #00af00\">289</span> │\n",
       "└──────────────────────────────────────┴─────────────────────────────┴─────────────────┘\n",
       "</pre>\n"
      ],
      "text/plain": [
       "┏━━━━━━━━━━━━━━━━━━━━━━━━━━━━━━━━━━━━━━┳━━━━━━━━━━━━━━━━━━━━━━━━━━━━━┳━━━━━━━━━━━━━━━━━┓\n",
       "┃\u001b[1m \u001b[0m\u001b[1mLayer (type)                        \u001b[0m\u001b[1m \u001b[0m┃\u001b[1m \u001b[0m\u001b[1mOutput Shape               \u001b[0m\u001b[1m \u001b[0m┃\u001b[1m \u001b[0m\u001b[1m        Param #\u001b[0m\u001b[1m \u001b[0m┃\n",
       "┡━━━━━━━━━━━━━━━━━━━━━━━━━━━━━━━━━━━━━━╇━━━━━━━━━━━━━━━━━━━━━━━━━━━━━╇━━━━━━━━━━━━━━━━━┩\n",
       "│ decoder_input (\u001b[38;5;33mInputLayer\u001b[0m)           │ (\u001b[38;5;45mNone\u001b[0m, \u001b[38;5;34m128\u001b[0m)                 │               \u001b[38;5;34m0\u001b[0m │\n",
       "├──────────────────────────────────────┼─────────────────────────────┼─────────────────┤\n",
       "│ dense (\u001b[38;5;33mDense\u001b[0m)                        │ (\u001b[38;5;45mNone\u001b[0m, \u001b[38;5;34m6272\u001b[0m)                │         \u001b[38;5;34m809,088\u001b[0m │\n",
       "├──────────────────────────────────────┼─────────────────────────────┼─────────────────┤\n",
       "│ reshape (\u001b[38;5;33mReshape\u001b[0m)                    │ (\u001b[38;5;45mNone\u001b[0m, \u001b[38;5;34m14\u001b[0m, \u001b[38;5;34m14\u001b[0m, \u001b[38;5;34m32\u001b[0m)          │               \u001b[38;5;34m0\u001b[0m │\n",
       "├──────────────────────────────────────┼─────────────────────────────┼─────────────────┤\n",
       "│ up_sampling2d (\u001b[38;5;33mUpSampling2D\u001b[0m)         │ (\u001b[38;5;45mNone\u001b[0m, \u001b[38;5;34m28\u001b[0m, \u001b[38;5;34m28\u001b[0m, \u001b[38;5;34m32\u001b[0m)          │               \u001b[38;5;34m0\u001b[0m │\n",
       "├──────────────────────────────────────┼─────────────────────────────┼─────────────────┤\n",
       "│ conv2d_1 (\u001b[38;5;33mConv2D\u001b[0m)                    │ (\u001b[38;5;45mNone\u001b[0m, \u001b[38;5;34m28\u001b[0m, \u001b[38;5;34m28\u001b[0m, \u001b[38;5;34m32\u001b[0m)          │           \u001b[38;5;34m9,248\u001b[0m │\n",
       "├──────────────────────────────────────┼─────────────────────────────┼─────────────────┤\n",
       "│ conv2d_2 (\u001b[38;5;33mConv2D\u001b[0m)                    │ (\u001b[38;5;45mNone\u001b[0m, \u001b[38;5;34m28\u001b[0m, \u001b[38;5;34m28\u001b[0m, \u001b[38;5;34m1\u001b[0m)           │             \u001b[38;5;34m289\u001b[0m │\n",
       "└──────────────────────────────────────┴─────────────────────────────┴─────────────────┘\n"
      ]
     },
     "metadata": {},
     "output_type": "display_data"
    },
    {
     "data": {
      "text/html": [
       "<pre style=\"white-space:pre;overflow-x:auto;line-height:normal;font-family:Menlo,'DejaVu Sans Mono',consolas,'Courier New',monospace\"><span style=\"font-weight: bold\"> Total params: </span><span style=\"color: #00af00; text-decoration-color: #00af00\">818,625</span> (3.12 MB)\n",
       "</pre>\n"
      ],
      "text/plain": [
       "\u001b[1m Total params: \u001b[0m\u001b[38;5;34m818,625\u001b[0m (3.12 MB)\n"
      ]
     },
     "metadata": {},
     "output_type": "display_data"
    },
    {
     "data": {
      "text/html": [
       "<pre style=\"white-space:pre;overflow-x:auto;line-height:normal;font-family:Menlo,'DejaVu Sans Mono',consolas,'Courier New',monospace\"><span style=\"font-weight: bold\"> Trainable params: </span><span style=\"color: #00af00; text-decoration-color: #00af00\">818,625</span> (3.12 MB)\n",
       "</pre>\n"
      ],
      "text/plain": [
       "\u001b[1m Trainable params: \u001b[0m\u001b[38;5;34m818,625\u001b[0m (3.12 MB)\n"
      ]
     },
     "metadata": {},
     "output_type": "display_data"
    },
    {
     "data": {
      "text/html": [
       "<pre style=\"white-space:pre;overflow-x:auto;line-height:normal;font-family:Menlo,'DejaVu Sans Mono',consolas,'Courier New',monospace\"><span style=\"font-weight: bold\"> Non-trainable params: </span><span style=\"color: #00af00; text-decoration-color: #00af00\">0</span> (0.00 B)\n",
       "</pre>\n"
      ],
      "text/plain": [
       "\u001b[1m Non-trainable params: \u001b[0m\u001b[38;5;34m0\u001b[0m (0.00 B)\n"
      ]
     },
     "metadata": {},
     "output_type": "display_data"
    }
   ],
   "source": [
    "print(\"Decoder Summary:\")\n",
    "autoencoder.decoder.summary()"
   ]
  },
  {
   "cell_type": "code",
   "execution_count": 15,
   "id": "8f3c6b26",
   "metadata": {
    "execution": {
     "iopub.execute_input": "2025-01-23T04:08:28.091806Z",
     "iopub.status.busy": "2025-01-23T04:08:28.091564Z",
     "iopub.status.idle": "2025-01-23T04:08:28.105028Z",
     "shell.execute_reply": "2025-01-23T04:08:28.104262Z"
    },
    "papermill": {
     "duration": 0.025915,
     "end_time": "2025-01-23T04:08:28.106270",
     "exception": false,
     "start_time": "2025-01-23T04:08:28.080355",
     "status": "completed"
    },
    "tags": []
   },
   "outputs": [
    {
     "name": "stdout",
     "output_type": "stream",
     "text": [
      "Autoencoder Summary:\n"
     ]
    },
    {
     "data": {
      "text/html": [
       "<pre style=\"white-space:pre;overflow-x:auto;line-height:normal;font-family:Menlo,'DejaVu Sans Mono',consolas,'Courier New',monospace\"><span style=\"font-weight: bold\">Model: \"autoencoder\"</span>\n",
       "</pre>\n"
      ],
      "text/plain": [
       "\u001b[1mModel: \"autoencoder\"\u001b[0m\n"
      ]
     },
     "metadata": {},
     "output_type": "display_data"
    },
    {
     "data": {
      "text/html": [
       "<pre style=\"white-space:pre;overflow-x:auto;line-height:normal;font-family:Menlo,'DejaVu Sans Mono',consolas,'Courier New',monospace\">┏━━━━━━━━━━━━━━━━━━━━━━━━━━━━━━━━━━━━━━┳━━━━━━━━━━━━━━━━━━━━━━━━━━━━━┳━━━━━━━━━━━━━━━━━┓\n",
       "┃<span style=\"font-weight: bold\"> Layer (type)                         </span>┃<span style=\"font-weight: bold\"> Output Shape                </span>┃<span style=\"font-weight: bold\">         Param # </span>┃\n",
       "┡━━━━━━━━━━━━━━━━━━━━━━━━━━━━━━━━━━━━━━╇━━━━━━━━━━━━━━━━━━━━━━━━━━━━━╇━━━━━━━━━━━━━━━━━┩\n",
       "│ autoencoder_input (<span style=\"color: #0087ff; text-decoration-color: #0087ff\">InputLayer</span>)       │ (<span style=\"color: #00d7ff; text-decoration-color: #00d7ff\">None</span>, <span style=\"color: #00af00; text-decoration-color: #00af00\">28</span>, <span style=\"color: #00af00; text-decoration-color: #00af00\">28</span>, <span style=\"color: #00af00; text-decoration-color: #00af00\">1</span>)           │               <span style=\"color: #00af00; text-decoration-color: #00af00\">0</span> │\n",
       "├──────────────────────────────────────┼─────────────────────────────┼─────────────────┤\n",
       "│ encoder (<span style=\"color: #0087ff; text-decoration-color: #0087ff\">Functional</span>)                 │ (<span style=\"color: #00d7ff; text-decoration-color: #00d7ff\">None</span>, <span style=\"color: #00af00; text-decoration-color: #00af00\">128</span>)                 │         <span style=\"color: #00af00; text-decoration-color: #00af00\">803,264</span> │\n",
       "├──────────────────────────────────────┼─────────────────────────────┼─────────────────┤\n",
       "│ decoder (<span style=\"color: #0087ff; text-decoration-color: #0087ff\">Functional</span>)                 │ (<span style=\"color: #00d7ff; text-decoration-color: #00d7ff\">None</span>, <span style=\"color: #00af00; text-decoration-color: #00af00\">28</span>, <span style=\"color: #00af00; text-decoration-color: #00af00\">28</span>, <span style=\"color: #00af00; text-decoration-color: #00af00\">1</span>)           │         <span style=\"color: #00af00; text-decoration-color: #00af00\">818,625</span> │\n",
       "└──────────────────────────────────────┴─────────────────────────────┴─────────────────┘\n",
       "</pre>\n"
      ],
      "text/plain": [
       "┏━━━━━━━━━━━━━━━━━━━━━━━━━━━━━━━━━━━━━━┳━━━━━━━━━━━━━━━━━━━━━━━━━━━━━┳━━━━━━━━━━━━━━━━━┓\n",
       "┃\u001b[1m \u001b[0m\u001b[1mLayer (type)                        \u001b[0m\u001b[1m \u001b[0m┃\u001b[1m \u001b[0m\u001b[1mOutput Shape               \u001b[0m\u001b[1m \u001b[0m┃\u001b[1m \u001b[0m\u001b[1m        Param #\u001b[0m\u001b[1m \u001b[0m┃\n",
       "┡━━━━━━━━━━━━━━━━━━━━━━━━━━━━━━━━━━━━━━╇━━━━━━━━━━━━━━━━━━━━━━━━━━━━━╇━━━━━━━━━━━━━━━━━┩\n",
       "│ autoencoder_input (\u001b[38;5;33mInputLayer\u001b[0m)       │ (\u001b[38;5;45mNone\u001b[0m, \u001b[38;5;34m28\u001b[0m, \u001b[38;5;34m28\u001b[0m, \u001b[38;5;34m1\u001b[0m)           │               \u001b[38;5;34m0\u001b[0m │\n",
       "├──────────────────────────────────────┼─────────────────────────────┼─────────────────┤\n",
       "│ encoder (\u001b[38;5;33mFunctional\u001b[0m)                 │ (\u001b[38;5;45mNone\u001b[0m, \u001b[38;5;34m128\u001b[0m)                 │         \u001b[38;5;34m803,264\u001b[0m │\n",
       "├──────────────────────────────────────┼─────────────────────────────┼─────────────────┤\n",
       "│ decoder (\u001b[38;5;33mFunctional\u001b[0m)                 │ (\u001b[38;5;45mNone\u001b[0m, \u001b[38;5;34m28\u001b[0m, \u001b[38;5;34m28\u001b[0m, \u001b[38;5;34m1\u001b[0m)           │         \u001b[38;5;34m818,625\u001b[0m │\n",
       "└──────────────────────────────────────┴─────────────────────────────┴─────────────────┘\n"
      ]
     },
     "metadata": {},
     "output_type": "display_data"
    },
    {
     "data": {
      "text/html": [
       "<pre style=\"white-space:pre;overflow-x:auto;line-height:normal;font-family:Menlo,'DejaVu Sans Mono',consolas,'Courier New',monospace\"><span style=\"font-weight: bold\"> Total params: </span><span style=\"color: #00af00; text-decoration-color: #00af00\">1,621,889</span> (6.19 MB)\n",
       "</pre>\n"
      ],
      "text/plain": [
       "\u001b[1m Total params: \u001b[0m\u001b[38;5;34m1,621,889\u001b[0m (6.19 MB)\n"
      ]
     },
     "metadata": {},
     "output_type": "display_data"
    },
    {
     "data": {
      "text/html": [
       "<pre style=\"white-space:pre;overflow-x:auto;line-height:normal;font-family:Menlo,'DejaVu Sans Mono',consolas,'Courier New',monospace\"><span style=\"font-weight: bold\"> Trainable params: </span><span style=\"color: #00af00; text-decoration-color: #00af00\">1,621,889</span> (6.19 MB)\n",
       "</pre>\n"
      ],
      "text/plain": [
       "\u001b[1m Trainable params: \u001b[0m\u001b[38;5;34m1,621,889\u001b[0m (6.19 MB)\n"
      ]
     },
     "metadata": {},
     "output_type": "display_data"
    },
    {
     "data": {
      "text/html": [
       "<pre style=\"white-space:pre;overflow-x:auto;line-height:normal;font-family:Menlo,'DejaVu Sans Mono',consolas,'Courier New',monospace\"><span style=\"font-weight: bold\"> Non-trainable params: </span><span style=\"color: #00af00; text-decoration-color: #00af00\">0</span> (0.00 B)\n",
       "</pre>\n"
      ],
      "text/plain": [
       "\u001b[1m Non-trainable params: \u001b[0m\u001b[38;5;34m0\u001b[0m (0.00 B)\n"
      ]
     },
     "metadata": {},
     "output_type": "display_data"
    }
   ],
   "source": [
    "print(\"Autoencoder Summary:\")\n",
    "autoencoder.autoencoder.summary()"
   ]
  },
  {
   "cell_type": "code",
   "execution_count": 16,
   "id": "986356b2",
   "metadata": {
    "execution": {
     "iopub.execute_input": "2025-01-23T04:08:28.129009Z",
     "iopub.status.busy": "2025-01-23T04:08:28.128806Z",
     "iopub.status.idle": "2025-01-23T04:09:18.112149Z",
     "shell.execute_reply": "2025-01-23T04:09:18.111397Z"
    },
    "executionInfo": {
     "elapsed": 18031,
     "status": "ok",
     "timestamp": 1737444924679,
     "user": {
      "displayName": "Kelvin Andreas",
      "userId": "05154160222147907191"
     },
     "user_tz": -420
    },
    "id": "sFueMQbdMpaE",
    "outputId": "aea08533-834c-441f-cc5b-79573ad6fde3",
    "papermill": {
     "duration": 49.996309,
     "end_time": "2025-01-23T04:09:18.113531",
     "exception": false,
     "start_time": "2025-01-23T04:08:28.117222",
     "status": "completed"
    },
    "tags": []
   },
   "outputs": [
    {
     "name": "stdout",
     "output_type": "stream",
     "text": [
      "Epoch 1/100\n",
      "\u001b[1m88/88\u001b[0m \u001b[32m━━━━━━━━━━━━━━━━━━━━\u001b[0m\u001b[37m\u001b[0m \u001b[1m7s\u001b[0m 32ms/step - loss: 0.6211 - val_loss: 0.3819\n",
      "Epoch 2/100\n",
      "\u001b[1m88/88\u001b[0m \u001b[32m━━━━━━━━━━━━━━━━━━━━\u001b[0m\u001b[37m\u001b[0m \u001b[1m0s\u001b[0m 5ms/step - loss: 0.3687 - val_loss: 0.3254\n",
      "Epoch 3/100\n",
      "\u001b[1m88/88\u001b[0m \u001b[32m━━━━━━━━━━━━━━━━━━━━\u001b[0m\u001b[37m\u001b[0m \u001b[1m0s\u001b[0m 5ms/step - loss: 0.3196 - val_loss: 0.3013\n",
      "Epoch 4/100\n",
      "\u001b[1m88/88\u001b[0m \u001b[32m━━━━━━━━━━━━━━━━━━━━\u001b[0m\u001b[37m\u001b[0m \u001b[1m0s\u001b[0m 5ms/step - loss: 0.3024 - val_loss: 0.2902\n",
      "Epoch 5/100\n",
      "\u001b[1m88/88\u001b[0m \u001b[32m━━━━━━━━━━━━━━━━━━━━\u001b[0m\u001b[37m\u001b[0m \u001b[1m0s\u001b[0m 5ms/step - loss: 0.2929 - val_loss: 0.2828\n",
      "Epoch 6/100\n",
      "\u001b[1m88/88\u001b[0m \u001b[32m━━━━━━━━━━━━━━━━━━━━\u001b[0m\u001b[37m\u001b[0m \u001b[1m0s\u001b[0m 5ms/step - loss: 0.2862 - val_loss: 0.2767\n",
      "Epoch 7/100\n",
      "\u001b[1m88/88\u001b[0m \u001b[32m━━━━━━━━━━━━━━━━━━━━\u001b[0m\u001b[37m\u001b[0m \u001b[1m0s\u001b[0m 5ms/step - loss: 0.2797 - val_loss: 0.2721\n",
      "Epoch 8/100\n",
      "\u001b[1m88/88\u001b[0m \u001b[32m━━━━━━━━━━━━━━━━━━━━\u001b[0m\u001b[37m\u001b[0m \u001b[1m0s\u001b[0m 5ms/step - loss: 0.2755 - val_loss: 0.2683\n",
      "Epoch 9/100\n",
      "\u001b[1m88/88\u001b[0m \u001b[32m━━━━━━━━━━━━━━━━━━━━\u001b[0m\u001b[37m\u001b[0m \u001b[1m0s\u001b[0m 5ms/step - loss: 0.2710 - val_loss: 0.2651\n",
      "Epoch 10/100\n",
      "\u001b[1m88/88\u001b[0m \u001b[32m━━━━━━━━━━━━━━━━━━━━\u001b[0m\u001b[37m\u001b[0m \u001b[1m0s\u001b[0m 5ms/step - loss: 0.2679 - val_loss: 0.2624\n",
      "Epoch 11/100\n",
      "\u001b[1m88/88\u001b[0m \u001b[32m━━━━━━━━━━━━━━━━━━━━\u001b[0m\u001b[37m\u001b[0m \u001b[1m0s\u001b[0m 5ms/step - loss: 0.2663 - val_loss: 0.2602\n",
      "Epoch 12/100\n",
      "\u001b[1m88/88\u001b[0m \u001b[32m━━━━━━━━━━━━━━━━━━━━\u001b[0m\u001b[37m\u001b[0m \u001b[1m0s\u001b[0m 5ms/step - loss: 0.2623 - val_loss: 0.2585\n",
      "Epoch 13/100\n",
      "\u001b[1m88/88\u001b[0m \u001b[32m━━━━━━━━━━━━━━━━━━━━\u001b[0m\u001b[37m\u001b[0m \u001b[1m0s\u001b[0m 5ms/step - loss: 0.2619 - val_loss: 0.2569\n",
      "Epoch 14/100\n",
      "\u001b[1m88/88\u001b[0m \u001b[32m━━━━━━━━━━━━━━━━━━━━\u001b[0m\u001b[37m\u001b[0m \u001b[1m0s\u001b[0m 5ms/step - loss: 0.2614 - val_loss: 0.2554\n",
      "Epoch 15/100\n",
      "\u001b[1m88/88\u001b[0m \u001b[32m━━━━━━━━━━━━━━━━━━━━\u001b[0m\u001b[37m\u001b[0m \u001b[1m0s\u001b[0m 5ms/step - loss: 0.2588 - val_loss: 0.2541\n",
      "Epoch 16/100\n",
      "\u001b[1m88/88\u001b[0m \u001b[32m━━━━━━━━━━━━━━━━━━━━\u001b[0m\u001b[37m\u001b[0m \u001b[1m0s\u001b[0m 5ms/step - loss: 0.2571 - val_loss: 0.2532\n",
      "Epoch 17/100\n",
      "\u001b[1m88/88\u001b[0m \u001b[32m━━━━━━━━━━━━━━━━━━━━\u001b[0m\u001b[37m\u001b[0m \u001b[1m0s\u001b[0m 5ms/step - loss: 0.2554 - val_loss: 0.2523\n",
      "Epoch 18/100\n",
      "\u001b[1m88/88\u001b[0m \u001b[32m━━━━━━━━━━━━━━━━━━━━\u001b[0m\u001b[37m\u001b[0m \u001b[1m0s\u001b[0m 5ms/step - loss: 0.2567 - val_loss: 0.2515\n",
      "Epoch 19/100\n",
      "\u001b[1m88/88\u001b[0m \u001b[32m━━━━━━━━━━━━━━━━━━━━\u001b[0m\u001b[37m\u001b[0m \u001b[1m0s\u001b[0m 5ms/step - loss: 0.2545 - val_loss: 0.2506\n",
      "Epoch 20/100\n",
      "\u001b[1m88/88\u001b[0m \u001b[32m━━━━━━━━━━━━━━━━━━━━\u001b[0m\u001b[37m\u001b[0m \u001b[1m0s\u001b[0m 5ms/step - loss: 0.2530 - val_loss: 0.2500\n",
      "Epoch 21/100\n",
      "\u001b[1m88/88\u001b[0m \u001b[32m━━━━━━━━━━━━━━━━━━━━\u001b[0m\u001b[37m\u001b[0m \u001b[1m0s\u001b[0m 5ms/step - loss: 0.2521 - val_loss: 0.2493\n",
      "Epoch 22/100\n",
      "\u001b[1m88/88\u001b[0m \u001b[32m━━━━━━━━━━━━━━━━━━━━\u001b[0m\u001b[37m\u001b[0m \u001b[1m0s\u001b[0m 5ms/step - loss: 0.2526 - val_loss: 0.2487\n",
      "Epoch 23/100\n",
      "\u001b[1m88/88\u001b[0m \u001b[32m━━━━━━━━━━━━━━━━━━━━\u001b[0m\u001b[37m\u001b[0m \u001b[1m0s\u001b[0m 5ms/step - loss: 0.2531 - val_loss: 0.2481\n",
      "Epoch 24/100\n",
      "\u001b[1m88/88\u001b[0m \u001b[32m━━━━━━━━━━━━━━━━━━━━\u001b[0m\u001b[37m\u001b[0m \u001b[1m0s\u001b[0m 5ms/step - loss: 0.2516 - val_loss: 0.2476\n",
      "Epoch 25/100\n",
      "\u001b[1m88/88\u001b[0m \u001b[32m━━━━━━━━━━━━━━━━━━━━\u001b[0m\u001b[37m\u001b[0m \u001b[1m0s\u001b[0m 5ms/step - loss: 0.2519 - val_loss: 0.2471\n",
      "Epoch 26/100\n",
      "\u001b[1m88/88\u001b[0m \u001b[32m━━━━━━━━━━━━━━━━━━━━\u001b[0m\u001b[37m\u001b[0m \u001b[1m0s\u001b[0m 5ms/step - loss: 0.2517 - val_loss: 0.2466\n",
      "Epoch 27/100\n",
      "\u001b[1m88/88\u001b[0m \u001b[32m━━━━━━━━━━━━━━━━━━━━\u001b[0m\u001b[37m\u001b[0m \u001b[1m0s\u001b[0m 5ms/step - loss: 0.2492 - val_loss: 0.2461\n",
      "Epoch 28/100\n",
      "\u001b[1m88/88\u001b[0m \u001b[32m━━━━━━━━━━━━━━━━━━━━\u001b[0m\u001b[37m\u001b[0m \u001b[1m0s\u001b[0m 5ms/step - loss: 0.2497 - val_loss: 0.2457\n",
      "Epoch 29/100\n",
      "\u001b[1m88/88\u001b[0m \u001b[32m━━━━━━━━━━━━━━━━━━━━\u001b[0m\u001b[37m\u001b[0m \u001b[1m0s\u001b[0m 5ms/step - loss: 0.2500 - val_loss: 0.2453\n",
      "Epoch 30/100\n",
      "\u001b[1m88/88\u001b[0m \u001b[32m━━━━━━━━━━━━━━━━━━━━\u001b[0m\u001b[37m\u001b[0m \u001b[1m0s\u001b[0m 5ms/step - loss: 0.2483 - val_loss: 0.2449\n",
      "Epoch 31/100\n",
      "\u001b[1m88/88\u001b[0m \u001b[32m━━━━━━━━━━━━━━━━━━━━\u001b[0m\u001b[37m\u001b[0m \u001b[1m0s\u001b[0m 5ms/step - loss: 0.2488 - val_loss: 0.2445\n",
      "Epoch 32/100\n",
      "\u001b[1m88/88\u001b[0m \u001b[32m━━━━━━━━━━━━━━━━━━━━\u001b[0m\u001b[37m\u001b[0m \u001b[1m0s\u001b[0m 5ms/step - loss: 0.2460 - val_loss: 0.2442\n",
      "Epoch 33/100\n",
      "\u001b[1m88/88\u001b[0m \u001b[32m━━━━━━━━━━━━━━━━━━━━\u001b[0m\u001b[37m\u001b[0m \u001b[1m0s\u001b[0m 5ms/step - loss: 0.2480 - val_loss: 0.2438\n",
      "Epoch 34/100\n",
      "\u001b[1m88/88\u001b[0m \u001b[32m━━━━━━━━━━━━━━━━━━━━\u001b[0m\u001b[37m\u001b[0m \u001b[1m0s\u001b[0m 5ms/step - loss: 0.2474 - val_loss: 0.2437\n",
      "Epoch 35/100\n",
      "\u001b[1m88/88\u001b[0m \u001b[32m━━━━━━━━━━━━━━━━━━━━\u001b[0m\u001b[37m\u001b[0m \u001b[1m0s\u001b[0m 5ms/step - loss: 0.2471 - val_loss: 0.2434\n",
      "Epoch 36/100\n",
      "\u001b[1m88/88\u001b[0m \u001b[32m━━━━━━━━━━━━━━━━━━━━\u001b[0m\u001b[37m\u001b[0m \u001b[1m0s\u001b[0m 5ms/step - loss: 0.2465 - val_loss: 0.2430\n",
      "Epoch 37/100\n",
      "\u001b[1m88/88\u001b[0m \u001b[32m━━━━━━━━━━━━━━━━━━━━\u001b[0m\u001b[37m\u001b[0m \u001b[1m0s\u001b[0m 5ms/step - loss: 0.2454 - val_loss: 0.2427\n",
      "Epoch 38/100\n",
      "\u001b[1m88/88\u001b[0m \u001b[32m━━━━━━━━━━━━━━━━━━━━\u001b[0m\u001b[37m\u001b[0m \u001b[1m0s\u001b[0m 5ms/step - loss: 0.2457 - val_loss: 0.2424\n",
      "Epoch 39/100\n",
      "\u001b[1m88/88\u001b[0m \u001b[32m━━━━━━━━━━━━━━━━━━━━\u001b[0m\u001b[37m\u001b[0m \u001b[1m0s\u001b[0m 5ms/step - loss: 0.2456 - val_loss: 0.2422\n",
      "Epoch 40/100\n",
      "\u001b[1m88/88\u001b[0m \u001b[32m━━━━━━━━━━━━━━━━━━━━\u001b[0m\u001b[37m\u001b[0m \u001b[1m0s\u001b[0m 5ms/step - loss: 0.2454 - val_loss: 0.2419\n",
      "Epoch 41/100\n",
      "\u001b[1m88/88\u001b[0m \u001b[32m━━━━━━━━━━━━━━━━━━━━\u001b[0m\u001b[37m\u001b[0m \u001b[1m0s\u001b[0m 5ms/step - loss: 0.2446 - val_loss: 0.2418\n",
      "Epoch 42/100\n",
      "\u001b[1m88/88\u001b[0m \u001b[32m━━━━━━━━━━━━━━━━━━━━\u001b[0m\u001b[37m\u001b[0m \u001b[1m0s\u001b[0m 5ms/step - loss: 0.2448 - val_loss: 0.2414\n",
      "Epoch 43/100\n",
      "\u001b[1m88/88\u001b[0m \u001b[32m━━━━━━━━━━━━━━━━━━━━\u001b[0m\u001b[37m\u001b[0m \u001b[1m0s\u001b[0m 5ms/step - loss: 0.2447 - val_loss: 0.2413\n",
      "Epoch 44/100\n",
      "\u001b[1m88/88\u001b[0m \u001b[32m━━━━━━━━━━━━━━━━━━━━\u001b[0m\u001b[37m\u001b[0m \u001b[1m0s\u001b[0m 5ms/step - loss: 0.2441 - val_loss: 0.2409\n",
      "Epoch 45/100\n",
      "\u001b[1m88/88\u001b[0m \u001b[32m━━━━━━━━━━━━━━━━━━━━\u001b[0m\u001b[37m\u001b[0m \u001b[1m0s\u001b[0m 5ms/step - loss: 0.2444 - val_loss: 0.2408\n",
      "Epoch 46/100\n",
      "\u001b[1m88/88\u001b[0m \u001b[32m━━━━━━━━━━━━━━━━━━━━\u001b[0m\u001b[37m\u001b[0m \u001b[1m0s\u001b[0m 5ms/step - loss: 0.2436 - val_loss: 0.2405\n",
      "Epoch 47/100\n",
      "\u001b[1m88/88\u001b[0m \u001b[32m━━━━━━━━━━━━━━━━━━━━\u001b[0m\u001b[37m\u001b[0m \u001b[1m0s\u001b[0m 5ms/step - loss: 0.2427 - val_loss: 0.2404\n",
      "Epoch 48/100\n",
      "\u001b[1m88/88\u001b[0m \u001b[32m━━━━━━━━━━━━━━━━━━━━\u001b[0m\u001b[37m\u001b[0m \u001b[1m0s\u001b[0m 5ms/step - loss: 0.2440 - val_loss: 0.2402\n",
      "Epoch 49/100\n",
      "\u001b[1m88/88\u001b[0m \u001b[32m━━━━━━━━━━━━━━━━━━━━\u001b[0m\u001b[37m\u001b[0m \u001b[1m0s\u001b[0m 5ms/step - loss: 0.2437 - val_loss: 0.2400\n",
      "Epoch 50/100\n",
      "\u001b[1m88/88\u001b[0m \u001b[32m━━━━━━━━━━━━━━━━━━━━\u001b[0m\u001b[37m\u001b[0m \u001b[1m0s\u001b[0m 5ms/step - loss: 0.2429 - val_loss: 0.2398\n",
      "Epoch 51/100\n",
      "\u001b[1m88/88\u001b[0m \u001b[32m━━━━━━━━━━━━━━━━━━━━\u001b[0m\u001b[37m\u001b[0m \u001b[1m0s\u001b[0m 5ms/step - loss: 0.2428 - val_loss: 0.2397\n",
      "Epoch 52/100\n",
      "\u001b[1m88/88\u001b[0m \u001b[32m━━━━━━━━━━━━━━━━━━━━\u001b[0m\u001b[37m\u001b[0m \u001b[1m0s\u001b[0m 5ms/step - loss: 0.2421 - val_loss: 0.2394\n",
      "Epoch 53/100\n",
      "\u001b[1m88/88\u001b[0m \u001b[32m━━━━━━━━━━━━━━━━━━━━\u001b[0m\u001b[37m\u001b[0m \u001b[1m0s\u001b[0m 5ms/step - loss: 0.2401 - val_loss: 0.2392\n",
      "Epoch 54/100\n",
      "\u001b[1m88/88\u001b[0m \u001b[32m━━━━━━━━━━━━━━━━━━━━\u001b[0m\u001b[37m\u001b[0m \u001b[1m0s\u001b[0m 5ms/step - loss: 0.2431 - val_loss: 0.2391\n",
      "Epoch 55/100\n",
      "\u001b[1m88/88\u001b[0m \u001b[32m━━━━━━━━━━━━━━━━━━━━\u001b[0m\u001b[37m\u001b[0m \u001b[1m0s\u001b[0m 5ms/step - loss: 0.2423 - val_loss: 0.2390\n",
      "Epoch 56/100\n",
      "\u001b[1m88/88\u001b[0m \u001b[32m━━━━━━━━━━━━━━━━━━━━\u001b[0m\u001b[37m\u001b[0m \u001b[1m0s\u001b[0m 5ms/step - loss: 0.2427 - val_loss: 0.2387\n",
      "Epoch 57/100\n",
      "\u001b[1m88/88\u001b[0m \u001b[32m━━━━━━━━━━━━━━━━━━━━\u001b[0m\u001b[37m\u001b[0m \u001b[1m0s\u001b[0m 5ms/step - loss: 0.2428 - val_loss: 0.2386\n",
      "Epoch 58/100\n",
      "\u001b[1m88/88\u001b[0m \u001b[32m━━━━━━━━━━━━━━━━━━━━\u001b[0m\u001b[37m\u001b[0m \u001b[1m0s\u001b[0m 5ms/step - loss: 0.2420 - val_loss: 0.2384\n",
      "Epoch 59/100\n",
      "\u001b[1m88/88\u001b[0m \u001b[32m━━━━━━━━━━━━━━━━━━━━\u001b[0m\u001b[37m\u001b[0m \u001b[1m0s\u001b[0m 5ms/step - loss: 0.2420 - val_loss: 0.2382\n",
      "Epoch 60/100\n",
      "\u001b[1m88/88\u001b[0m \u001b[32m━━━━━━━━━━━━━━━━━━━━\u001b[0m\u001b[37m\u001b[0m \u001b[1m0s\u001b[0m 5ms/step - loss: 0.2420 - val_loss: 0.2382\n",
      "Epoch 61/100\n",
      "\u001b[1m88/88\u001b[0m \u001b[32m━━━━━━━━━━━━━━━━━━━━\u001b[0m\u001b[37m\u001b[0m \u001b[1m0s\u001b[0m 5ms/step - loss: 0.2419 - val_loss: 0.2379\n",
      "Epoch 62/100\n",
      "\u001b[1m88/88\u001b[0m \u001b[32m━━━━━━━━━━━━━━━━━━━━\u001b[0m\u001b[37m\u001b[0m \u001b[1m0s\u001b[0m 5ms/step - loss: 0.2417 - val_loss: 0.2378\n",
      "Epoch 63/100\n",
      "\u001b[1m88/88\u001b[0m \u001b[32m━━━━━━━━━━━━━━━━━━━━\u001b[0m\u001b[37m\u001b[0m \u001b[1m0s\u001b[0m 5ms/step - loss: 0.2399 - val_loss: 0.2380\n",
      "Epoch 64/100\n",
      "\u001b[1m88/88\u001b[0m \u001b[32m━━━━━━━━━━━━━━━━━━━━\u001b[0m\u001b[37m\u001b[0m \u001b[1m0s\u001b[0m 5ms/step - loss: 0.2395 - val_loss: 0.2376\n",
      "Epoch 65/100\n",
      "\u001b[1m88/88\u001b[0m \u001b[32m━━━━━━━━━━━━━━━━━━━━\u001b[0m\u001b[37m\u001b[0m \u001b[1m0s\u001b[0m 5ms/step - loss: 0.2408 - val_loss: 0.2374\n",
      "Epoch 66/100\n",
      "\u001b[1m88/88\u001b[0m \u001b[32m━━━━━━━━━━━━━━━━━━━━\u001b[0m\u001b[37m\u001b[0m \u001b[1m0s\u001b[0m 5ms/step - loss: 0.2408 - val_loss: 0.2373\n",
      "Epoch 67/100\n",
      "\u001b[1m88/88\u001b[0m \u001b[32m━━━━━━━━━━━━━━━━━━━━\u001b[0m\u001b[37m\u001b[0m \u001b[1m0s\u001b[0m 5ms/step - loss: 0.2410 - val_loss: 0.2371\n",
      "Epoch 68/100\n",
      "\u001b[1m88/88\u001b[0m \u001b[32m━━━━━━━━━━━━━━━━━━━━\u001b[0m\u001b[37m\u001b[0m \u001b[1m0s\u001b[0m 5ms/step - loss: 0.2398 - val_loss: 0.2370\n",
      "Epoch 69/100\n",
      "\u001b[1m88/88\u001b[0m \u001b[32m━━━━━━━━━━━━━━━━━━━━\u001b[0m\u001b[37m\u001b[0m \u001b[1m0s\u001b[0m 5ms/step - loss: 0.2397 - val_loss: 0.2369\n",
      "Epoch 70/100\n",
      "\u001b[1m88/88\u001b[0m \u001b[32m━━━━━━━━━━━━━━━━━━━━\u001b[0m\u001b[37m\u001b[0m \u001b[1m0s\u001b[0m 5ms/step - loss: 0.2390 - val_loss: 0.2368\n",
      "Epoch 71/100\n",
      "\u001b[1m88/88\u001b[0m \u001b[32m━━━━━━━━━━━━━━━━━━━━\u001b[0m\u001b[37m\u001b[0m \u001b[1m0s\u001b[0m 5ms/step - loss: 0.2398 - val_loss: 0.2367\n",
      "Epoch 72/100\n",
      "\u001b[1m88/88\u001b[0m \u001b[32m━━━━━━━━━━━━━━━━━━━━\u001b[0m\u001b[37m\u001b[0m \u001b[1m0s\u001b[0m 5ms/step - loss: 0.2395 - val_loss: 0.2365\n",
      "Epoch 73/100\n",
      "\u001b[1m88/88\u001b[0m \u001b[32m━━━━━━━━━━━━━━━━━━━━\u001b[0m\u001b[37m\u001b[0m \u001b[1m0s\u001b[0m 5ms/step - loss: 0.2397 - val_loss: 0.2365\n",
      "Epoch 74/100\n",
      "\u001b[1m88/88\u001b[0m \u001b[32m━━━━━━━━━━━━━━━━━━━━\u001b[0m\u001b[37m\u001b[0m \u001b[1m0s\u001b[0m 5ms/step - loss: 0.2389 - val_loss: 0.2363\n",
      "Epoch 75/100\n",
      "\u001b[1m88/88\u001b[0m \u001b[32m━━━━━━━━━━━━━━━━━━━━\u001b[0m\u001b[37m\u001b[0m \u001b[1m0s\u001b[0m 5ms/step - loss: 0.2387 - val_loss: 0.2363\n",
      "Epoch 76/100\n",
      "\u001b[1m88/88\u001b[0m \u001b[32m━━━━━━━━━━━━━━━━━━━━\u001b[0m\u001b[37m\u001b[0m \u001b[1m0s\u001b[0m 5ms/step - loss: 0.2389 - val_loss: 0.2363\n",
      "Epoch 77/100\n",
      "\u001b[1m88/88\u001b[0m \u001b[32m━━━━━━━━━━━━━━━━━━━━\u001b[0m\u001b[37m\u001b[0m \u001b[1m0s\u001b[0m 5ms/step - loss: 0.2392 - val_loss: 0.2361\n",
      "Epoch 78/100\n",
      "\u001b[1m88/88\u001b[0m \u001b[32m━━━━━━━━━━━━━━━━━━━━\u001b[0m\u001b[37m\u001b[0m \u001b[1m0s\u001b[0m 5ms/step - loss: 0.2381 - val_loss: 0.2360\n",
      "Epoch 79/100\n",
      "\u001b[1m88/88\u001b[0m \u001b[32m━━━━━━━━━━━━━━━━━━━━\u001b[0m\u001b[37m\u001b[0m \u001b[1m0s\u001b[0m 5ms/step - loss: 0.2384 - val_loss: 0.2359\n",
      "Epoch 80/100\n",
      "\u001b[1m88/88\u001b[0m \u001b[32m━━━━━━━━━━━━━━━━━━━━\u001b[0m\u001b[37m\u001b[0m \u001b[1m0s\u001b[0m 5ms/step - loss: 0.2383 - val_loss: 0.2357\n",
      "Epoch 81/100\n",
      "\u001b[1m88/88\u001b[0m \u001b[32m━━━━━━━━━━━━━━━━━━━━\u001b[0m\u001b[37m\u001b[0m \u001b[1m0s\u001b[0m 5ms/step - loss: 0.2396 - val_loss: 0.2357\n",
      "Epoch 82/100\n",
      "\u001b[1m88/88\u001b[0m \u001b[32m━━━━━━━━━━━━━━━━━━━━\u001b[0m\u001b[37m\u001b[0m \u001b[1m0s\u001b[0m 5ms/step - loss: 0.2363 - val_loss: 0.2357\n",
      "Epoch 83/100\n",
      "\u001b[1m88/88\u001b[0m \u001b[32m━━━━━━━━━━━━━━━━━━━━\u001b[0m\u001b[37m\u001b[0m \u001b[1m0s\u001b[0m 5ms/step - loss: 0.2392 - val_loss: 0.2354\n",
      "Epoch 84/100\n",
      "\u001b[1m88/88\u001b[0m \u001b[32m━━━━━━━━━━━━━━━━━━━━\u001b[0m\u001b[37m\u001b[0m \u001b[1m0s\u001b[0m 5ms/step - loss: 0.2399 - val_loss: 0.2355\n",
      "Epoch 85/100\n",
      "\u001b[1m88/88\u001b[0m \u001b[32m━━━━━━━━━━━━━━━━━━━━\u001b[0m\u001b[37m\u001b[0m \u001b[1m0s\u001b[0m 5ms/step - loss: 0.2379 - val_loss: 0.2354\n",
      "Epoch 86/100\n",
      "\u001b[1m88/88\u001b[0m \u001b[32m━━━━━━━━━━━━━━━━━━━━\u001b[0m\u001b[37m\u001b[0m \u001b[1m0s\u001b[0m 5ms/step - loss: 0.2379 - val_loss: 0.2352\n",
      "Epoch 87/100\n",
      "\u001b[1m88/88\u001b[0m \u001b[32m━━━━━━━━━━━━━━━━━━━━\u001b[0m\u001b[37m\u001b[0m \u001b[1m0s\u001b[0m 5ms/step - loss: 0.2376 - val_loss: 0.2352\n",
      "Epoch 88/100\n",
      "\u001b[1m88/88\u001b[0m \u001b[32m━━━━━━━━━━━━━━━━━━━━\u001b[0m\u001b[37m\u001b[0m \u001b[1m0s\u001b[0m 5ms/step - loss: 0.2368 - val_loss: 0.2350\n",
      "Epoch 89/100\n",
      "\u001b[1m88/88\u001b[0m \u001b[32m━━━━━━━━━━━━━━━━━━━━\u001b[0m\u001b[37m\u001b[0m \u001b[1m0s\u001b[0m 5ms/step - loss: 0.2366 - val_loss: 0.2349\n",
      "Epoch 90/100\n",
      "\u001b[1m88/88\u001b[0m \u001b[32m━━━━━━━━━━━━━━━━━━━━\u001b[0m\u001b[37m\u001b[0m \u001b[1m0s\u001b[0m 5ms/step - loss: 0.2372 - val_loss: 0.2349\n",
      "Epoch 91/100\n",
      "\u001b[1m88/88\u001b[0m \u001b[32m━━━━━━━━━━━━━━━━━━━━\u001b[0m\u001b[37m\u001b[0m \u001b[1m0s\u001b[0m 5ms/step - loss: 0.2372 - val_loss: 0.2348\n",
      "Epoch 92/100\n",
      "\u001b[1m88/88\u001b[0m \u001b[32m━━━━━━━━━━━━━━━━━━━━\u001b[0m\u001b[37m\u001b[0m \u001b[1m0s\u001b[0m 5ms/step - loss: 0.2389 - val_loss: 0.2347\n",
      "Epoch 93/100\n",
      "\u001b[1m88/88\u001b[0m \u001b[32m━━━━━━━━━━━━━━━━━━━━\u001b[0m\u001b[37m\u001b[0m \u001b[1m0s\u001b[0m 5ms/step - loss: 0.2375 - val_loss: 0.2346\n",
      "Epoch 94/100\n",
      "\u001b[1m88/88\u001b[0m \u001b[32m━━━━━━━━━━━━━━━━━━━━\u001b[0m\u001b[37m\u001b[0m \u001b[1m0s\u001b[0m 5ms/step - loss: 0.2390 - val_loss: 0.2346\n",
      "Epoch 95/100\n",
      "\u001b[1m88/88\u001b[0m \u001b[32m━━━━━━━━━━━━━━━━━━━━\u001b[0m\u001b[37m\u001b[0m \u001b[1m0s\u001b[0m 5ms/step - loss: 0.2374 - val_loss: 0.2345\n",
      "Epoch 96/100\n",
      "\u001b[1m88/88\u001b[0m \u001b[32m━━━━━━━━━━━━━━━━━━━━\u001b[0m\u001b[37m\u001b[0m \u001b[1m0s\u001b[0m 5ms/step - loss: 0.2380 - val_loss: 0.2345\n",
      "Epoch 97/100\n",
      "\u001b[1m88/88\u001b[0m \u001b[32m━━━━━━━━━━━━━━━━━━━━\u001b[0m\u001b[37m\u001b[0m \u001b[1m0s\u001b[0m 5ms/step - loss: 0.2365 - val_loss: 0.2344\n",
      "Epoch 98/100\n",
      "\u001b[1m88/88\u001b[0m \u001b[32m━━━━━━━━━━━━━━━━━━━━\u001b[0m\u001b[37m\u001b[0m \u001b[1m0s\u001b[0m 5ms/step - loss: 0.2368 - val_loss: 0.2343\n",
      "Epoch 99/100\n",
      "\u001b[1m88/88\u001b[0m \u001b[32m━━━━━━━━━━━━━━━━━━━━\u001b[0m\u001b[37m\u001b[0m \u001b[1m0s\u001b[0m 5ms/step - loss: 0.2368 - val_loss: 0.2343\n",
      "Epoch 100/100\n",
      "\u001b[1m88/88\u001b[0m \u001b[32m━━━━━━━━━━━━━━━━━━━━\u001b[0m\u001b[37m\u001b[0m \u001b[1m0s\u001b[0m 5ms/step - loss: 0.2378 - val_loss: 0.2342\n"
     ]
    }
   ],
   "source": [
    "# Add earlystopper\n",
    "early_stopping = EarlyStopping(\n",
    "    monitor=\"val_loss\",\n",
    "    patience=5,\n",
    "    restore_best_weights=True\n",
    ")\n",
    "\n",
    "# Train Autoencoder\n",
    "history = autoencoder.autoencoder.fit(\n",
    "    X_train, X_train,\n",
    "    epochs=config[\"epochs\"],\n",
    "    batch_size=config[\"batch_size\"],\n",
    "    validation_data=(X_val, X_val),\n",
    "    callbacks=[early_stopping]\n",
    ")"
   ]
  },
  {
   "cell_type": "code",
   "execution_count": 17,
   "id": "af47ec32",
   "metadata": {
    "execution": {
     "iopub.execute_input": "2025-01-23T04:09:18.221794Z",
     "iopub.status.busy": "2025-01-23T04:09:18.221504Z",
     "iopub.status.idle": "2025-01-23T04:09:18.407660Z",
     "shell.execute_reply": "2025-01-23T04:09:18.406779Z"
    },
    "papermill": {
     "duration": 0.241093,
     "end_time": "2025-01-23T04:09:18.408987",
     "exception": false,
     "start_time": "2025-01-23T04:09:18.167894",
     "status": "completed"
    },
    "tags": []
   },
   "outputs": [
    {
     "data": {
      "image/png": "[encoded data removed]",
      "text/plain": [
       "<Figure size 1000x600 with 1 Axes>"
      ]
     },
     "metadata": {},
     "output_type": "display_data"
    }
   ],
   "source": [
    "# Plot Training and Validation Loss\n",
    "plt.figure(figsize=(10, 6))\n",
    "plt.plot(history.history['loss'], 'bo-', label='Training Loss')\n",
    "plt.plot(history.history['val_loss'], 'ro-', label='Validation Loss')\n",
    "plt.title('Training and Validation Loss')\n",
    "plt.xlabel('Epochs')\n",
    "plt.ylabel('Loss')\n",
    "plt.legend()\n",
    "plt.show()"
   ]
  },
  {
   "cell_type": "code",
   "execution_count": 18,
   "id": "32cdac20",
   "metadata": {
    "execution": {
     "iopub.execute_input": "2025-01-23T04:09:18.518202Z",
     "iopub.status.busy": "2025-01-23T04:09:18.517859Z",
     "iopub.status.idle": "2025-01-23T04:09:19.463229Z",
     "shell.execute_reply": "2025-01-23T04:09:19.462285Z"
    },
    "executionInfo": {
     "elapsed": 407,
     "status": "ok",
     "timestamp": 1737444925083,
     "user": {
      "displayName": "Kelvin Andreas",
      "userId": "05154160222147907191"
     },
     "user_tz": -420
    },
    "id": "HkjoZ09iN3mC",
    "outputId": "fc331832-0f7f-4288-f3d3-99d000079986",
    "papermill": {
     "duration": 1.000709,
     "end_time": "2025-01-23T04:09:19.464593",
     "exception": false,
     "start_time": "2025-01-23T04:09:18.463884",
     "status": "completed"
    },
    "tags": []
   },
   "outputs": [
    {
     "name": "stdout",
     "output_type": "stream",
     "text": [
      "\u001b[1m44/44\u001b[0m \u001b[32m━━━━━━━━━━━━━━━━━━━━\u001b[0m\u001b[37m\u001b[0m \u001b[1m1s\u001b[0m 11ms/step - loss: 0.2404\n",
      "Test Loss: 0.2383\n"
     ]
    }
   ],
   "source": [
    "# Evaluate\n",
    "test_loss = autoencoder.autoencoder.evaluate(X_test, X_test)\n",
    "print(f\"Test Loss: {test_loss:.4f}\")"
   ]
  },
  {
   "cell_type": "code",
   "execution_count": 19,
   "id": "92a553d6",
   "metadata": {
    "execution": {
     "iopub.execute_input": "2025-01-23T04:09:19.629467Z",
     "iopub.status.busy": "2025-01-23T04:09:19.629133Z",
     "iopub.status.idle": "2025-01-23T04:09:20.615594Z",
     "shell.execute_reply": "2025-01-23T04:09:20.614585Z"
    },
    "executionInfo": {
     "elapsed": 9,
     "status": "ok",
     "timestamp": 1737444925083,
     "user": {
      "displayName": "Kelvin Andreas",
      "userId": "05154160222147907191"
     },
     "user_tz": -420
    },
    "id": "Kxqa_rPMOG9W",
    "outputId": "04d375cd-ba9f-4a10-f925-6ba424e43feb",
    "papermill": {
     "duration": 1.088724,
     "end_time": "2025-01-23T04:09:20.616851",
     "exception": false,
     "start_time": "2025-01-23T04:09:19.528127",
     "status": "completed"
    },
    "tags": []
   },
   "outputs": [
    {
     "name": "stdout",
     "output_type": "stream",
     "text": [
      "\u001b[1m44/44\u001b[0m \u001b[32m━━━━━━━━━━━━━━━━━━━━\u001b[0m\u001b[37m\u001b[0m \u001b[1m1s\u001b[0m 8ms/step\n",
      "SSIM pada data test: 0.8585\n"
     ]
    }
   ],
   "source": [
    "# Calculate SSIM between original and reconstructed images\n",
    "def calculate_ssim(original_images, reconstructed_images):\n",
    "    ssim_values = []\n",
    "    for original, reconstructed in zip(original_images, reconstructed_images):\n",
    "        original = original.squeeze()\n",
    "        reconstructed = reconstructed.squeeze()\n",
    "        ssim_value = ssim(original, reconstructed, data_range=1.0)\n",
    "        ssim_values.append(ssim_value)\n",
    "    return np.mean(ssim_values)\n",
    "\n",
    "reconstructed_images = autoencoder.autoencoder.predict(X_test)\n",
    "ssim_score = calculate_ssim(X_test, reconstructed_images)\n",
    "print(f\"SSIM pada data test: {ssim_score:.4f}\")"
   ]
  },
  {
   "cell_type": "code",
   "execution_count": 20,
   "id": "2b07a3ee",
   "metadata": {
    "execution": {
     "iopub.execute_input": "2025-01-23T04:09:20.740912Z",
     "iopub.status.busy": "2025-01-23T04:09:20.740442Z",
     "iopub.status.idle": "2025-01-23T04:09:21.842676Z",
     "shell.execute_reply": "2025-01-23T04:09:21.841747Z"
    },
    "executionInfo": {
     "elapsed": 2173,
     "status": "ok",
     "timestamp": 1737444927250,
     "user": {
      "displayName": "Kelvin Andreas",
      "userId": "05154160222147907191"
     },
     "user_tz": -420
    },
    "id": "QevV2xgdYq-6",
    "outputId": "fcad8a0c-6d2d-4256-a3e4-7f9c3ca52e18",
    "papermill": {
     "duration": 1.172995,
     "end_time": "2025-01-23T04:09:21.844135",
     "exception": false,
     "start_time": "2025-01-23T04:09:20.671140",
     "status": "completed"
    },
    "tags": []
   },
   "outputs": [
    {
     "data": {
      "image/png": "[encoded data removed]",
      "text/plain": [
       "<Figure size 2000x400 with 20 Axes>"
      ]
     },
     "metadata": {},
     "output_type": "display_data"
    }
   ],
   "source": [
    "def visualize_reconstructions(original_images, reconstructed_images, modified_reconstructed_images=None, n=10):\n",
    "    plt.figure(figsize=(20, 4 if modified_reconstructed_images is None else 6))\n",
    "    \n",
    "    for i in range(n):\n",
    "        ax = plt.subplot(2 if modified_reconstructed_images is None else 3, n, i + 1)\n",
    "        plt.imshow(original_images[i].squeeze(), cmap=\"gray\")\n",
    "        plt.title(\"Original\")\n",
    "        plt.axis(\"off\")\n",
    "\n",
    "        ax = plt.subplot(2 if modified_reconstructed_images is None else 3, n, i + 1 + n)\n",
    "        plt.imshow(reconstructed_images[i].squeeze(), cmap=\"gray\")\n",
    "        plt.title(\"Reconstructed\")\n",
    "        plt.axis(\"off\")\n",
    "\n",
    "        if modified_reconstructed_images is not None:\n",
    "            ax = plt.subplot(3, n, i + 1 + 2 * n)\n",
    "            plt.imshow(modified_reconstructed_images[i].squeeze(), cmap=\"gray\")\n",
    "            plt.title(\"M-Reconstructed\")\n",
    "            plt.axis(\"off\")\n",
    "    \n",
    "    plt.show()\n",
    "\n",
    "visualize_reconstructions(X_test, reconstructed_images, n=10)"
   ]
  },
  {
   "cell_type": "code",
   "execution_count": 21,
   "id": "e53dba45",
   "metadata": {
    "execution": {
     "iopub.execute_input": "2025-01-23T04:09:21.953475Z",
     "iopub.status.busy": "2025-01-23T04:09:21.953152Z",
     "iopub.status.idle": "2025-01-23T04:09:22.013776Z",
     "shell.execute_reply": "2025-01-23T04:09:22.013042Z"
    },
    "id": "BuK03m3EzbkX",
    "papermill": {
     "duration": 0.116592,
     "end_time": "2025-01-23T04:09:22.015290",
     "exception": false,
     "start_time": "2025-01-23T04:09:21.898698",
     "status": "completed"
    },
    "tags": []
   },
   "outputs": [],
   "source": [
    "autoencoder.autoencoder.save('autoencoder_model.h5')"
   ]
  },
  {
   "cell_type": "markdown",
   "id": "347b8790",
   "metadata": {
    "id": "puE2EdF2WXx1",
    "papermill": {
     "duration": 0.053707,
     "end_time": "2025-01-23T04:09:22.124726",
     "exception": false,
     "start_time": "2025-01-23T04:09:22.071019",
     "status": "completed"
    },
    "tags": []
   },
   "source": [
    "# c. Modification Architecture and Hyperparameter Tuning"
   ]
  },
  {
   "cell_type": "code",
   "execution_count": 22,
   "id": "a47de348",
   "metadata": {
    "execution": {
     "iopub.execute_input": "2025-01-23T04:09:22.234600Z",
     "iopub.status.busy": "2025-01-23T04:09:22.234260Z",
     "iopub.status.idle": "2025-01-23T04:09:22.238449Z",
     "shell.execute_reply": "2025-01-23T04:09:22.237621Z"
    },
    "executionInfo": {
     "elapsed": 10,
     "status": "ok",
     "timestamp": 1737444927250,
     "user": {
      "displayName": "Kelvin Andreas",
      "userId": "05154160222147907191"
     },
     "user_tz": -420
    },
    "id": "Xl1PtZHtdSHp",
    "papermill": {
     "duration": 0.061351,
     "end_time": "2025-01-23T04:09:22.239694",
     "exception": false,
     "start_time": "2025-01-23T04:09:22.178343",
     "status": "completed"
    },
    "tags": []
   },
   "outputs": [],
   "source": [
    "config = {\n",
    "    \"epochs\": 100,\n",
    "}\n",
    "\n",
    "# Define Parameter for Grid Search\n",
    "param_grid = {\n",
    "    \"learning_rate\": [0.0001, 0.001, 0.01, 0.0002],\n",
    "    \"batch_size\": [64, 128, 256],\n",
    "    \"latent_dim\": [128, 256]\n",
    "}\n",
    "\n",
    "grid = ParameterGrid(param_grid)"
   ]
  },
  {
   "cell_type": "code",
   "execution_count": 23,
   "id": "7454b339",
   "metadata": {
    "execution": {
     "iopub.execute_input": "2025-01-23T04:09:22.348746Z",
     "iopub.status.busy": "2025-01-23T04:09:22.348477Z",
     "iopub.status.idle": "2025-01-23T04:09:22.356906Z",
     "shell.execute_reply": "2025-01-23T04:09:22.356256Z"
    },
    "executionInfo": {
     "elapsed": 9,
     "status": "ok",
     "timestamp": 1737444927250,
     "user": {
      "displayName": "Kelvin Andreas",
      "userId": "05154160222147907191"
     },
     "user_tz": -420
    },
    "id": "rfTZHIPnSZtV",
    "papermill": {
     "duration": 0.064003,
     "end_time": "2025-01-23T04:09:22.358133",
     "exception": false,
     "start_time": "2025-01-23T04:09:22.294130",
     "status": "completed"
    },
    "tags": []
   },
   "outputs": [],
   "source": [
    "class ModifiedAutoEncoder:\n",
    "    def __init__(self, input_shape=(28, 28, 1), latent_dim=128):\n",
    "        self.input_shape = input_shape\n",
    "        self.latent_dim = latent_dim\n",
    "        self.encoder = self.build_encoder()\n",
    "        self.decoder = self.build_decoder()\n",
    "        self.autoencoder = self.build_autoencoder()\n",
    "\n",
    "    def build_encoder(self):\n",
    "        inputs = layers.Input(shape=self.input_shape, name=\"encoder_input\")\n",
    "        x = layers.Conv2D(64, (3, 3), activation=\"relu\", padding=\"same\")(inputs)\n",
    "        x = layers.BatchNormalization()(x)\n",
    "        x = layers.MaxPooling2D((2, 2), padding=\"same\")(x)\n",
    "        x = layers.Conv2D(128, (3, 3), activation=\"relu\", padding=\"same\")(x)\n",
    "        x = layers.BatchNormalization()(x)\n",
    "        x = layers.Flatten()(x)\n",
    "        outputs = layers.Dense(self.latent_dim, activation=\"relu\", name=\"latent_vector\")(x)\n",
    "        return models.Model(inputs, outputs, name=\"encoder\")\n",
    "\n",
    "    def build_decoder(self):\n",
    "        inputs = layers.Input(shape=(self.latent_dim,), name=\"decoder_input\")\n",
    "        x = layers.Dense(25088, activation=\"relu\")(inputs)\n",
    "        x = layers.BatchNormalization()(x)\n",
    "        x = layers.Reshape((14, 14, 128))(x)\n",
    "        x = layers.UpSampling2D((2, 2))(x)\n",
    "        x = layers.Conv2D(128, (3, 3), activation=\"relu\", padding=\"same\")(x)\n",
    "        x = layers.BatchNormalization()(x)\n",
    "        x = layers.Conv2D(64, (3, 3), activation=\"relu\", padding=\"same\")(x)\n",
    "        x = layers.BatchNormalization()(x)\n",
    "        outputs = layers.Conv2D(1, (3, 3), activation=\"sigmoid\", padding=\"same\")(x)\n",
    "\n",
    "        return models.Model(inputs, outputs, name=\"decoder\")\n",
    "\n",
    "    def build_autoencoder(self):\n",
    "        inputs = layers.Input(shape=self.input_shape, name=\"autoencoder_input\")\n",
    "        encoded = self.encoder(inputs)\n",
    "        decoded = self.decoder(encoded)\n",
    "        return models.Model(inputs, decoded, name=\"autoencoder\")"
   ]
  },
  {
   "cell_type": "code",
   "execution_count": 24,
   "id": "c292c139",
   "metadata": {
    "execution": {
     "iopub.execute_input": "2025-01-23T04:09:22.467760Z",
     "iopub.status.busy": "2025-01-23T04:09:22.467472Z",
     "iopub.status.idle": "2025-01-23T04:09:22.473246Z",
     "shell.execute_reply": "2025-01-23T04:09:22.472519Z"
    },
    "executionInfo": {
     "elapsed": 9,
     "status": "ok",
     "timestamp": 1737444927251,
     "user": {
      "displayName": "Kelvin Andreas",
      "userId": "05154160222147907191"
     },
     "user_tz": -420
    },
    "id": "19GuWcIug1ax",
    "papermill": {
     "duration": 0.062139,
     "end_time": "2025-01-23T04:09:22.474401",
     "exception": false,
     "start_time": "2025-01-23T04:09:22.412262",
     "status": "completed"
    },
    "tags": []
   },
   "outputs": [],
   "source": [
    "best_model = None\n",
    "best_ssim_score = -1\n",
    "\n",
    "# Train and Evaluate function to find the best parameters\n",
    "def train_and_evaluate(learning_rate, batch_size, latent_dim, X_train, X_val, X_test):\n",
    "    global best_model, best_ssim_score\n",
    "\n",
    "    modified_autoencoder = ModifiedAutoEncoder(\n",
    "        input_shape=(28, 28, 1),\n",
    "        latent_dim=latent_dim\n",
    "    )\n",
    "\n",
    "    modified_autoencoder.autoencoder.compile(\n",
    "        optimizer=Adam(learning_rate=learning_rate),\n",
    "        loss=\"binary_crossentropy\"\n",
    "    )\n",
    "\n",
    "    early_stopping = EarlyStopping(\n",
    "        monitor=\"val_loss\",\n",
    "        patience=5,\n",
    "        restore_best_weights=True\n",
    "    )\n",
    "\n",
    "    history = modified_autoencoder.autoencoder.fit(\n",
    "        X_train, X_train,\n",
    "        epochs=config[\"epochs\"],\n",
    "        batch_size=batch_size,\n",
    "        validation_data=(X_val, X_val),\n",
    "        callbacks=[early_stopping],\n",
    "        verbose=0\n",
    "    )\n",
    "\n",
    "    reconstructed_images = modified_autoencoder.autoencoder.predict(X_test, verbose=0)\n",
    "    test_loss = modified_autoencoder.autoencoder.evaluate(X_test, X_test)\n",
    "    ssim_score = calculate_ssim(X_test, reconstructed_images)\n",
    "\n",
    "    if ssim_score > best_ssim_score:\n",
    "        best_ssim_score = ssim_score\n",
    "        best_model = modified_autoencoder\n",
    "        print(f\"New best model found with SSIM score: {ssim_score:.4f}\")\n",
    "\n",
    "    return ssim_score, test_loss"
   ]
  },
  {
   "cell_type": "code",
   "execution_count": 25,
   "id": "99a5da31",
   "metadata": {
    "execution": {
     "iopub.execute_input": "2025-01-23T04:09:22.584694Z",
     "iopub.status.busy": "2025-01-23T04:09:22.584399Z",
     "iopub.status.idle": "2025-01-23T04:40:57.616288Z",
     "shell.execute_reply": "2025-01-23T04:40:57.615293Z"
    },
    "id": "YdhpzFkihIzU",
    "outputId": "84ae3bfd-96c0-496f-c96b-1ba962d45f49",
    "papermill": {
     "duration": 1895.089358,
     "end_time": "2025-01-23T04:40:57.617764",
     "exception": false,
     "start_time": "2025-01-23T04:09:22.528406",
     "status": "completed"
    },
    "tags": []
   },
   "outputs": [
    {
     "name": "stdout",
     "output_type": "stream",
     "text": [
      "Testing params: {'batch_size': 64, 'latent_dim': 128, 'learning_rate': 0.0001}\n",
      "\u001b[1m44/44\u001b[0m \u001b[32m━━━━━━━━━━━━━━━━━━━━\u001b[0m\u001b[37m\u001b[0m \u001b[1m1s\u001b[0m 11ms/step - loss: 0.2385\n",
      "New best model found with SSIM score: 0.8794\n",
      "SSIM Score: 0.8794, Test Loss: 0.2363\n",
      "\n",
      "Testing params: {'batch_size': 64, 'latent_dim': 128, 'learning_rate': 0.001}\n",
      "\u001b[1m44/44\u001b[0m \u001b[32m━━━━━━━━━━━━━━━━━━━━\u001b[0m\u001b[37m\u001b[0m \u001b[1m1s\u001b[0m 8ms/step - loss: 0.2385\n",
      "SSIM Score: 0.8753, Test Loss: 0.2362\n",
      "\n",
      "Testing params: {'batch_size': 64, 'latent_dim': 128, 'learning_rate': 0.01}\n",
      "\u001b[1m44/44\u001b[0m \u001b[32m━━━━━━━━━━━━━━━━━━━━\u001b[0m\u001b[37m\u001b[0m \u001b[1m1s\u001b[0m 9ms/step - loss: 0.2394\n",
      "New best model found with SSIM score: 0.8835\n",
      "SSIM Score: 0.8835, Test Loss: 0.2373\n",
      "\n",
      "Testing params: {'batch_size': 64, 'latent_dim': 128, 'learning_rate': 0.0002}\n",
      "\u001b[1m44/44\u001b[0m \u001b[32m━━━━━━━━━━━━━━━━━━━━\u001b[0m\u001b[37m\u001b[0m \u001b[1m1s\u001b[0m 8ms/step - loss: 0.2374\n",
      "New best model found with SSIM score: 0.8853\n",
      "SSIM Score: 0.8853, Test Loss: 0.2352\n",
      "\n",
      "Testing params: {'batch_size': 64, 'latent_dim': 256, 'learning_rate': 0.0001}\n",
      "\u001b[1m44/44\u001b[0m \u001b[32m━━━━━━━━━━━━━━━━━━━━\u001b[0m\u001b[37m\u001b[0m \u001b[1m1s\u001b[0m 11ms/step - loss: 0.2342\n",
      "New best model found with SSIM score: 0.9055\n",
      "SSIM Score: 0.9055, Test Loss: 0.2320\n",
      "\n",
      "Testing params: {'batch_size': 64, 'latent_dim': 256, 'learning_rate': 0.001}\n",
      "\u001b[1m44/44\u001b[0m \u001b[32m━━━━━━━━━━━━━━━━━━━━\u001b[0m\u001b[37m\u001b[0m \u001b[1m1s\u001b[0m 8ms/step - loss: 0.2328\n",
      "New best model found with SSIM score: 0.9163\n",
      "SSIM Score: 0.9163, Test Loss: 0.2305\n",
      "\n",
      "Testing params: {'batch_size': 64, 'latent_dim': 256, 'learning_rate': 0.01}\n",
      "\u001b[1m44/44\u001b[0m \u001b[32m━━━━━━━━━━━━━━━━━━━━\u001b[0m\u001b[37m\u001b[0m \u001b[1m1s\u001b[0m 8ms/step - loss: 0.2358\n",
      "SSIM Score: 0.8935, Test Loss: 0.2335\n",
      "\n",
      "Testing params: {'batch_size': 64, 'latent_dim': 256, 'learning_rate': 0.0002}\n",
      "\u001b[1m44/44\u001b[0m \u001b[32m━━━━━━━━━━━━━━━━━━━━\u001b[0m\u001b[37m\u001b[0m \u001b[1m1s\u001b[0m 8ms/step - loss: 0.2341\n",
      "SSIM Score: 0.9082, Test Loss: 0.2318\n",
      "\n",
      "Testing params: {'batch_size': 128, 'latent_dim': 128, 'learning_rate': 0.0001}\n",
      "\u001b[1m44/44\u001b[0m \u001b[32m━━━━━━━━━━━━━━━━━━━━\u001b[0m\u001b[37m\u001b[0m \u001b[1m1s\u001b[0m 8ms/step - loss: 0.2385\n",
      "SSIM Score: 0.8750, Test Loss: 0.2363\n",
      "\n",
      "Testing params: {'batch_size': 128, 'latent_dim': 128, 'learning_rate': 0.001}\n",
      "\u001b[1m44/44\u001b[0m \u001b[32m━━━━━━━━━━━━━━━━━━━━\u001b[0m\u001b[37m\u001b[0m \u001b[1m1s\u001b[0m 8ms/step - loss: 0.2371\n",
      "SSIM Score: 0.8883, Test Loss: 0.2349\n",
      "\n",
      "Testing params: {'batch_size': 128, 'latent_dim': 128, 'learning_rate': 0.01}\n",
      "\u001b[1m44/44\u001b[0m \u001b[32m━━━━━━━━━━━━━━━━━━━━\u001b[0m\u001b[37m\u001b[0m \u001b[1m1s\u001b[0m 8ms/step - loss: 0.2410\n",
      "SSIM Score: 0.8628, Test Loss: 0.2389\n",
      "\n",
      "Testing params: {'batch_size': 128, 'latent_dim': 128, 'learning_rate': 0.0002}\n",
      "\u001b[1m44/44\u001b[0m \u001b[32m━━━━━━━━━━━━━━━━━━━━\u001b[0m\u001b[37m\u001b[0m \u001b[1m1s\u001b[0m 8ms/step - loss: 0.2377\n",
      "SSIM Score: 0.8821, Test Loss: 0.2356\n",
      "\n",
      "Testing params: {'batch_size': 128, 'latent_dim': 256, 'learning_rate': 0.0001}\n",
      "\u001b[1m44/44\u001b[0m \u001b[32m━━━━━━━━━━━━━━━━━━━━\u001b[0m\u001b[37m\u001b[0m \u001b[1m1s\u001b[0m 8ms/step - loss: 0.2352\n",
      "SSIM Score: 0.9002, Test Loss: 0.2331\n",
      "\n",
      "Testing params: {'batch_size': 128, 'latent_dim': 256, 'learning_rate': 0.001}\n",
      "\u001b[1m44/44\u001b[0m \u001b[32m━━━━━━━━━━━━━━━━━━━━\u001b[0m\u001b[37m\u001b[0m \u001b[1m1s\u001b[0m 8ms/step - loss: 0.2345\n",
      "SSIM Score: 0.9080, Test Loss: 0.2322\n",
      "\n",
      "Testing params: {'batch_size': 128, 'latent_dim': 256, 'learning_rate': 0.01}\n",
      "\u001b[1m44/44\u001b[0m \u001b[32m━━━━━━━━━━━━━━━━━━━━\u001b[0m\u001b[37m\u001b[0m \u001b[1m1s\u001b[0m 8ms/step - loss: 0.2345\n",
      "SSIM Score: 0.9032, Test Loss: 0.2322\n",
      "\n",
      "Testing params: {'batch_size': 128, 'latent_dim': 256, 'learning_rate': 0.0002}\n",
      "\u001b[1m44/44\u001b[0m \u001b[32m━━━━━━━━━━━━━━━━━━━━\u001b[0m\u001b[37m\u001b[0m \u001b[1m1s\u001b[0m 8ms/step - loss: 0.2359\n",
      "SSIM Score: 0.8956, Test Loss: 0.2337\n",
      "\n",
      "Testing params: {'batch_size': 256, 'latent_dim': 128, 'learning_rate': 0.0001}\n",
      "\u001b[1m44/44\u001b[0m \u001b[32m━━━━━━━━━━━━━━━━━━━━\u001b[0m\u001b[37m\u001b[0m \u001b[1m1s\u001b[0m 8ms/step - loss: 0.2398\n",
      "SSIM Score: 0.8697, Test Loss: 0.2377\n",
      "\n",
      "Testing params: {'batch_size': 256, 'latent_dim': 128, 'learning_rate': 0.001}\n",
      "\u001b[1m44/44\u001b[0m \u001b[32m━━━━━━━━━━━━━━━━━━━━\u001b[0m\u001b[37m\u001b[0m \u001b[1m1s\u001b[0m 8ms/step - loss: 0.2389\n",
      "SSIM Score: 0.8749, Test Loss: 0.2367\n",
      "\n",
      "Testing params: {'batch_size': 256, 'latent_dim': 128, 'learning_rate': 0.01}\n",
      "\u001b[1m44/44\u001b[0m \u001b[32m━━━━━━━━━━━━━━━━━━━━\u001b[0m\u001b[37m\u001b[0m \u001b[1m1s\u001b[0m 8ms/step - loss: 0.2431\n",
      "SSIM Score: 0.8422, Test Loss: 0.2410\n",
      "\n",
      "Testing params: {'batch_size': 256, 'latent_dim': 128, 'learning_rate': 0.0002}\n",
      "\u001b[1m44/44\u001b[0m \u001b[32m━━━━━━━━━━━━━━━━━━━━\u001b[0m\u001b[37m\u001b[0m \u001b[1m1s\u001b[0m 8ms/step - loss: 0.2396\n",
      "SSIM Score: 0.8678, Test Loss: 0.2375\n",
      "\n",
      "Testing params: {'batch_size': 256, 'latent_dim': 256, 'learning_rate': 0.0001}\n",
      "\u001b[1m44/44\u001b[0m \u001b[32m━━━━━━━━━━━━━━━━━━━━\u001b[0m\u001b[37m\u001b[0m \u001b[1m1s\u001b[0m 8ms/step - loss: 0.2371\n",
      "SSIM Score: 0.8872, Test Loss: 0.2349\n",
      "\n",
      "Testing params: {'batch_size': 256, 'latent_dim': 256, 'learning_rate': 0.001}\n",
      "\u001b[1m44/44\u001b[0m \u001b[32m━━━━━━━━━━━━━━━━━━━━\u001b[0m\u001b[37m\u001b[0m \u001b[1m1s\u001b[0m 8ms/step - loss: 0.2363\n",
      "SSIM Score: 0.8904, Test Loss: 0.2340\n",
      "\n",
      "Testing params: {'batch_size': 256, 'latent_dim': 256, 'learning_rate': 0.01}\n",
      "\u001b[1m44/44\u001b[0m \u001b[32m━━━━━━━━━━━━━━━━━━━━\u001b[0m\u001b[37m\u001b[0m \u001b[1m1s\u001b[0m 8ms/step - loss: 0.2428\n",
      "SSIM Score: 0.8540, Test Loss: 0.2406\n",
      "\n",
      "Testing params: {'batch_size': 256, 'latent_dim': 256, 'learning_rate': 0.0002}\n",
      "\u001b[1m44/44\u001b[0m \u001b[32m━━━━━━━━━━━━━━━━━━━━\u001b[0m\u001b[37m\u001b[0m \u001b[1m1s\u001b[0m 8ms/step - loss: 0.2370\n",
      "SSIM Score: 0.8892, Test Loss: 0.2348\n",
      "\n"
     ]
    }
   ],
   "source": [
    "results = []\n",
    "\n",
    "for params in grid:\n",
    "    print(f\"Testing params: {params}\")\n",
    "    ssim_score, test_loss = train_and_evaluate(params[\"learning_rate\"], params[\"batch_size\"], params[\"latent_dim\"], X_train, X_val, X_test)\n",
    "    results.append({\n",
    "        \"params\": params,\n",
    "        \"ssim_score\": ssim_score,\n",
    "        \"test_loss\": test_loss\n",
    "    })\n",
    "    print(f\"SSIM Score: {ssim_score:.4f}, Test Loss: {test_loss:.4f}\\n\")"
   ]
  },
  {
   "cell_type": "code",
   "execution_count": 26,
   "id": "97a85a3f",
   "metadata": {
    "execution": {
     "iopub.execute_input": "2025-01-23T04:40:57.785718Z",
     "iopub.status.busy": "2025-01-23T04:40:57.785422Z",
     "iopub.status.idle": "2025-01-23T04:40:57.790785Z",
     "shell.execute_reply": "2025-01-23T04:40:57.790014Z"
    },
    "id": "2-ECcLJQhe9-",
    "papermill": {
     "duration": 0.068632,
     "end_time": "2025-01-23T04:40:57.792012",
     "exception": false,
     "start_time": "2025-01-23T04:40:57.723380",
     "status": "completed"
    },
    "tags": []
   },
   "outputs": [
    {
     "name": "stdout",
     "output_type": "stream",
     "text": [
      "Best Hyperparameters:\n",
      "{'batch_size': 64, 'latent_dim': 256, 'learning_rate': 0.001}\n",
      "Best SSIM Score: 0.9163\n"
     ]
    }
   ],
   "source": [
    "best_result = max(results, key=lambda x: x[\"ssim_score\"])\n",
    "print(\"Best Hyperparameters:\")\n",
    "print(best_result[\"params\"])\n",
    "print(f\"Best SSIM Score: {best_result['ssim_score']:.4f}\")"
   ]
  },
  {
   "cell_type": "code",
   "execution_count": 27,
   "id": "19ad412d",
   "metadata": {
    "execution": {
     "iopub.execute_input": "2025-01-23T04:40:57.914136Z",
     "iopub.status.busy": "2025-01-23T04:40:57.913861Z",
     "iopub.status.idle": "2025-01-23T04:40:58.729498Z",
     "shell.execute_reply": "2025-01-23T04:40:58.728741Z"
    },
    "papermill": {
     "duration": 0.877569,
     "end_time": "2025-01-23T04:40:58.730817",
     "exception": false,
     "start_time": "2025-01-23T04:40:57.853248",
     "status": "completed"
    },
    "tags": []
   },
   "outputs": [
    {
     "name": "stdout",
     "output_type": "stream",
     "text": [
      "\u001b[1m44/44\u001b[0m \u001b[32m━━━━━━━━━━━━━━━━━━━━\u001b[0m\u001b[37m\u001b[0m \u001b[1m0s\u001b[0m 1ms/step\n",
      "SSIM pada data test (Baseline): 0.8585\n",
      "\u001b[1m44/44\u001b[0m \u001b[32m━━━━━━━━━━━━━━━━━━━━\u001b[0m\u001b[37m\u001b[0m \u001b[1m0s\u001b[0m 2ms/step\n",
      "SSIM pada data test (Modified): 0.9163\n"
     ]
    }
   ],
   "source": [
    "reconstructed_images = autoencoder.autoencoder.predict(X_test)\n",
    "ssim_score = calculate_ssim(X_test, reconstructed_images)\n",
    "print(f\"SSIM pada data test (Baseline): {ssim_score:.4f}\")\n",
    "\n",
    "modified_reconstructed_images = best_model.autoencoder.predict(X_test)\n",
    "ssim_score = calculate_ssim(X_test, modified_reconstructed_images)\n",
    "print(f\"SSIM pada data test (Modified): {ssim_score:.4f}\")"
   ]
  },
  {
   "cell_type": "code",
   "execution_count": 28,
   "id": "11935457",
   "metadata": {
    "execution": {
     "iopub.execute_input": "2025-01-23T04:40:58.854667Z",
     "iopub.status.busy": "2025-01-23T04:40:58.854407Z",
     "iopub.status.idle": "2025-01-23T04:40:58.871457Z",
     "shell.execute_reply": "2025-01-23T04:40:58.870792Z"
    },
    "papermill": {
     "duration": 0.080175,
     "end_time": "2025-01-23T04:40:58.872673",
     "exception": false,
     "start_time": "2025-01-23T04:40:58.792498",
     "status": "completed"
    },
    "tags": []
   },
   "outputs": [
    {
     "name": "stdout",
     "output_type": "stream",
     "text": [
      "Modified Encoder Summary:\n"
     ]
    },
    {
     "data": {
      "text/html": [
       "<pre style=\"white-space:pre;overflow-x:auto;line-height:normal;font-family:Menlo,'DejaVu Sans Mono',consolas,'Courier New',monospace\"><span style=\"font-weight: bold\">Model: \"encoder\"</span>\n",
       "</pre>\n"
      ],
      "text/plain": [
       "\u001b[1mModel: \"encoder\"\u001b[0m\n"
      ]
     },
     "metadata": {},
     "output_type": "display_data"
    },
    {
     "data": {
      "text/html": [
       "<pre style=\"white-space:pre;overflow-x:auto;line-height:normal;font-family:Menlo,'DejaVu Sans Mono',consolas,'Courier New',monospace\">┏━━━━━━━━━━━━━━━━━━━━━━━━━━━━━━━━━━━━━━┳━━━━━━━━━━━━━━━━━━━━━━━━━━━━━┳━━━━━━━━━━━━━━━━━┓\n",
       "┃<span style=\"font-weight: bold\"> Layer (type)                         </span>┃<span style=\"font-weight: bold\"> Output Shape                </span>┃<span style=\"font-weight: bold\">         Param # </span>┃\n",
       "┡━━━━━━━━━━━━━━━━━━━━━━━━━━━━━━━━━━━━━━╇━━━━━━━━━━━━━━━━━━━━━━━━━━━━━╇━━━━━━━━━━━━━━━━━┩\n",
       "│ encoder_input (<span style=\"color: #0087ff; text-decoration-color: #0087ff\">InputLayer</span>)           │ (<span style=\"color: #00d7ff; text-decoration-color: #00d7ff\">None</span>, <span style=\"color: #00af00; text-decoration-color: #00af00\">28</span>, <span style=\"color: #00af00; text-decoration-color: #00af00\">28</span>, <span style=\"color: #00af00; text-decoration-color: #00af00\">1</span>)           │               <span style=\"color: #00af00; text-decoration-color: #00af00\">0</span> │\n",
       "├──────────────────────────────────────┼─────────────────────────────┼─────────────────┤\n",
       "│ conv2d_28 (<span style=\"color: #0087ff; text-decoration-color: #0087ff\">Conv2D</span>)                   │ (<span style=\"color: #00d7ff; text-decoration-color: #00d7ff\">None</span>, <span style=\"color: #00af00; text-decoration-color: #00af00\">28</span>, <span style=\"color: #00af00; text-decoration-color: #00af00\">28</span>, <span style=\"color: #00af00; text-decoration-color: #00af00\">64</span>)          │             <span style=\"color: #00af00; text-decoration-color: #00af00\">640</span> │\n",
       "├──────────────────────────────────────┼─────────────────────────────┼─────────────────┤\n",
       "│ batch_normalization_25               │ (<span style=\"color: #00d7ff; text-decoration-color: #00d7ff\">None</span>, <span style=\"color: #00af00; text-decoration-color: #00af00\">28</span>, <span style=\"color: #00af00; text-decoration-color: #00af00\">28</span>, <span style=\"color: #00af00; text-decoration-color: #00af00\">64</span>)          │             <span style=\"color: #00af00; text-decoration-color: #00af00\">256</span> │\n",
       "│ (<span style=\"color: #0087ff; text-decoration-color: #0087ff\">BatchNormalization</span>)                 │                             │                 │\n",
       "├──────────────────────────────────────┼─────────────────────────────┼─────────────────┤\n",
       "│ max_pooling2d_6 (<span style=\"color: #0087ff; text-decoration-color: #0087ff\">MaxPooling2D</span>)       │ (<span style=\"color: #00d7ff; text-decoration-color: #00d7ff\">None</span>, <span style=\"color: #00af00; text-decoration-color: #00af00\">14</span>, <span style=\"color: #00af00; text-decoration-color: #00af00\">14</span>, <span style=\"color: #00af00; text-decoration-color: #00af00\">64</span>)          │               <span style=\"color: #00af00; text-decoration-color: #00af00\">0</span> │\n",
       "├──────────────────────────────────────┼─────────────────────────────┼─────────────────┤\n",
       "│ conv2d_29 (<span style=\"color: #0087ff; text-decoration-color: #0087ff\">Conv2D</span>)                   │ (<span style=\"color: #00d7ff; text-decoration-color: #00d7ff\">None</span>, <span style=\"color: #00af00; text-decoration-color: #00af00\">14</span>, <span style=\"color: #00af00; text-decoration-color: #00af00\">14</span>, <span style=\"color: #00af00; text-decoration-color: #00af00\">128</span>)         │          <span style=\"color: #00af00; text-decoration-color: #00af00\">73,856</span> │\n",
       "├──────────────────────────────────────┼─────────────────────────────┼─────────────────┤\n",
       "│ batch_normalization_26               │ (<span style=\"color: #00d7ff; text-decoration-color: #00d7ff\">None</span>, <span style=\"color: #00af00; text-decoration-color: #00af00\">14</span>, <span style=\"color: #00af00; text-decoration-color: #00af00\">14</span>, <span style=\"color: #00af00; text-decoration-color: #00af00\">128</span>)         │             <span style=\"color: #00af00; text-decoration-color: #00af00\">512</span> │\n",
       "│ (<span style=\"color: #0087ff; text-decoration-color: #0087ff\">BatchNormalization</span>)                 │                             │                 │\n",
       "├──────────────────────────────────────┼─────────────────────────────┼─────────────────┤\n",
       "│ flatten_6 (<span style=\"color: #0087ff; text-decoration-color: #0087ff\">Flatten</span>)                  │ (<span style=\"color: #00d7ff; text-decoration-color: #00d7ff\">None</span>, <span style=\"color: #00af00; text-decoration-color: #00af00\">25088</span>)               │               <span style=\"color: #00af00; text-decoration-color: #00af00\">0</span> │\n",
       "├──────────────────────────────────────┼─────────────────────────────┼─────────────────┤\n",
       "│ latent_vector (<span style=\"color: #0087ff; text-decoration-color: #0087ff\">Dense</span>)                │ (<span style=\"color: #00d7ff; text-decoration-color: #00d7ff\">None</span>, <span style=\"color: #00af00; text-decoration-color: #00af00\">256</span>)                 │       <span style=\"color: #00af00; text-decoration-color: #00af00\">6,422,784</span> │\n",
       "└──────────────────────────────────────┴─────────────────────────────┴─────────────────┘\n",
       "</pre>\n"
      ],
      "text/plain": [
       "┏━━━━━━━━━━━━━━━━━━━━━━━━━━━━━━━━━━━━━━┳━━━━━━━━━━━━━━━━━━━━━━━━━━━━━┳━━━━━━━━━━━━━━━━━┓\n",
       "┃\u001b[1m \u001b[0m\u001b[1mLayer (type)                        \u001b[0m\u001b[1m \u001b[0m┃\u001b[1m \u001b[0m\u001b[1mOutput Shape               \u001b[0m\u001b[1m \u001b[0m┃\u001b[1m \u001b[0m\u001b[1m        Param #\u001b[0m\u001b[1m \u001b[0m┃\n",
       "┡━━━━━━━━━━━━━━━━━━━━━━━━━━━━━━━━━━━━━━╇━━━━━━━━━━━━━━━━━━━━━━━━━━━━━╇━━━━━━━━━━━━━━━━━┩\n",
       "│ encoder_input (\u001b[38;5;33mInputLayer\u001b[0m)           │ (\u001b[38;5;45mNone\u001b[0m, \u001b[38;5;34m28\u001b[0m, \u001b[38;5;34m28\u001b[0m, \u001b[38;5;34m1\u001b[0m)           │               \u001b[38;5;34m0\u001b[0m │\n",
       "├──────────────────────────────────────┼─────────────────────────────┼─────────────────┤\n",
       "│ conv2d_28 (\u001b[38;5;33mConv2D\u001b[0m)                   │ (\u001b[38;5;45mNone\u001b[0m, \u001b[38;5;34m28\u001b[0m, \u001b[38;5;34m28\u001b[0m, \u001b[38;5;34m64\u001b[0m)          │             \u001b[38;5;34m640\u001b[0m │\n",
       "├──────────────────────────────────────┼─────────────────────────────┼─────────────────┤\n",
       "│ batch_normalization_25               │ (\u001b[38;5;45mNone\u001b[0m, \u001b[38;5;34m28\u001b[0m, \u001b[38;5;34m28\u001b[0m, \u001b[38;5;34m64\u001b[0m)          │             \u001b[38;5;34m256\u001b[0m │\n",
       "│ (\u001b[38;5;33mBatchNormalization\u001b[0m)                 │                             │                 │\n",
       "├──────────────────────────────────────┼─────────────────────────────┼─────────────────┤\n",
       "│ max_pooling2d_6 (\u001b[38;5;33mMaxPooling2D\u001b[0m)       │ (\u001b[38;5;45mNone\u001b[0m, \u001b[38;5;34m14\u001b[0m, \u001b[38;5;34m14\u001b[0m, \u001b[38;5;34m64\u001b[0m)          │               \u001b[38;5;34m0\u001b[0m │\n",
       "├──────────────────────────────────────┼─────────────────────────────┼─────────────────┤\n",
       "│ conv2d_29 (\u001b[38;5;33mConv2D\u001b[0m)                   │ (\u001b[38;5;45mNone\u001b[0m, \u001b[38;5;34m14\u001b[0m, \u001b[38;5;34m14\u001b[0m, \u001b[38;5;34m128\u001b[0m)         │          \u001b[38;5;34m73,856\u001b[0m │\n",
       "├──────────────────────────────────────┼─────────────────────────────┼─────────────────┤\n",
       "│ batch_normalization_26               │ (\u001b[38;5;45mNone\u001b[0m, \u001b[38;5;34m14\u001b[0m, \u001b[38;5;34m14\u001b[0m, \u001b[38;5;34m128\u001b[0m)         │             \u001b[38;5;34m512\u001b[0m │\n",
       "│ (\u001b[38;5;33mBatchNormalization\u001b[0m)                 │                             │                 │\n",
       "├──────────────────────────────────────┼─────────────────────────────┼─────────────────┤\n",
       "│ flatten_6 (\u001b[38;5;33mFlatten\u001b[0m)                  │ (\u001b[38;5;45mNone\u001b[0m, \u001b[38;5;34m25088\u001b[0m)               │               \u001b[38;5;34m0\u001b[0m │\n",
       "├──────────────────────────────────────┼─────────────────────────────┼─────────────────┤\n",
       "│ latent_vector (\u001b[38;5;33mDense\u001b[0m)                │ (\u001b[38;5;45mNone\u001b[0m, \u001b[38;5;34m256\u001b[0m)                 │       \u001b[38;5;34m6,422,784\u001b[0m │\n",
       "└──────────────────────────────────────┴─────────────────────────────┴─────────────────┘\n"
      ]
     },
     "metadata": {},
     "output_type": "display_data"
    },
    {
     "data": {
      "text/html": [
       "<pre style=\"white-space:pre;overflow-x:auto;line-height:normal;font-family:Menlo,'DejaVu Sans Mono',consolas,'Courier New',monospace\"><span style=\"font-weight: bold\"> Total params: </span><span style=\"color: #00af00; text-decoration-color: #00af00\">6,498,048</span> (24.79 MB)\n",
       "</pre>\n"
      ],
      "text/plain": [
       "\u001b[1m Total params: \u001b[0m\u001b[38;5;34m6,498,048\u001b[0m (24.79 MB)\n"
      ]
     },
     "metadata": {},
     "output_type": "display_data"
    },
    {
     "data": {
      "text/html": [
       "<pre style=\"white-space:pre;overflow-x:auto;line-height:normal;font-family:Menlo,'DejaVu Sans Mono',consolas,'Courier New',monospace\"><span style=\"font-weight: bold\"> Trainable params: </span><span style=\"color: #00af00; text-decoration-color: #00af00\">6,497,664</span> (24.79 MB)\n",
       "</pre>\n"
      ],
      "text/plain": [
       "\u001b[1m Trainable params: \u001b[0m\u001b[38;5;34m6,497,664\u001b[0m (24.79 MB)\n"
      ]
     },
     "metadata": {},
     "output_type": "display_data"
    },
    {
     "data": {
      "text/html": [
       "<pre style=\"white-space:pre;overflow-x:auto;line-height:normal;font-family:Menlo,'DejaVu Sans Mono',consolas,'Courier New',monospace\"><span style=\"font-weight: bold\"> Non-trainable params: </span><span style=\"color: #00af00; text-decoration-color: #00af00\">384</span> (1.50 KB)\n",
       "</pre>\n"
      ],
      "text/plain": [
       "\u001b[1m Non-trainable params: \u001b[0m\u001b[38;5;34m384\u001b[0m (1.50 KB)\n"
      ]
     },
     "metadata": {},
     "output_type": "display_data"
    }
   ],
   "source": [
    "print(\"Modified Encoder Summary:\")\n",
    "best_model.encoder.summary()"
   ]
  },
  {
   "cell_type": "code",
   "execution_count": 29,
   "id": "fc218f83",
   "metadata": {
    "execution": {
     "iopub.execute_input": "2025-01-23T04:40:58.995913Z",
     "iopub.status.busy": "2025-01-23T04:40:58.995643Z",
     "iopub.status.idle": "2025-01-23T04:40:59.016143Z",
     "shell.execute_reply": "2025-01-23T04:40:59.015309Z"
    },
    "papermill": {
     "duration": 0.084019,
     "end_time": "2025-01-23T04:40:59.017504",
     "exception": false,
     "start_time": "2025-01-23T04:40:58.933485",
     "status": "completed"
    },
    "tags": []
   },
   "outputs": [
    {
     "name": "stdout",
     "output_type": "stream",
     "text": [
      "Modified Decoder Summary:\n"
     ]
    },
    {
     "data": {
      "text/html": [
       "<pre style=\"white-space:pre;overflow-x:auto;line-height:normal;font-family:Menlo,'DejaVu Sans Mono',consolas,'Courier New',monospace\"><span style=\"font-weight: bold\">Model: \"decoder\"</span>\n",
       "</pre>\n"
      ],
      "text/plain": [
       "\u001b[1mModel: \"decoder\"\u001b[0m\n"
      ]
     },
     "metadata": {},
     "output_type": "display_data"
    },
    {
     "data": {
      "text/html": [
       "<pre style=\"white-space:pre;overflow-x:auto;line-height:normal;font-family:Menlo,'DejaVu Sans Mono',consolas,'Courier New',monospace\">┏━━━━━━━━━━━━━━━━━━━━━━━━━━━━━━━━━━━━━━┳━━━━━━━━━━━━━━━━━━━━━━━━━━━━━┳━━━━━━━━━━━━━━━━━┓\n",
       "┃<span style=\"font-weight: bold\"> Layer (type)                         </span>┃<span style=\"font-weight: bold\"> Output Shape                </span>┃<span style=\"font-weight: bold\">         Param # </span>┃\n",
       "┡━━━━━━━━━━━━━━━━━━━━━━━━━━━━━━━━━━━━━━╇━━━━━━━━━━━━━━━━━━━━━━━━━━━━━╇━━━━━━━━━━━━━━━━━┩\n",
       "│ decoder_input (<span style=\"color: #0087ff; text-decoration-color: #0087ff\">InputLayer</span>)           │ (<span style=\"color: #00d7ff; text-decoration-color: #00d7ff\">None</span>, <span style=\"color: #00af00; text-decoration-color: #00af00\">256</span>)                 │               <span style=\"color: #00af00; text-decoration-color: #00af00\">0</span> │\n",
       "├──────────────────────────────────────┼─────────────────────────────┼─────────────────┤\n",
       "│ dense_6 (<span style=\"color: #0087ff; text-decoration-color: #0087ff\">Dense</span>)                      │ (<span style=\"color: #00d7ff; text-decoration-color: #00d7ff\">None</span>, <span style=\"color: #00af00; text-decoration-color: #00af00\">25088</span>)               │       <span style=\"color: #00af00; text-decoration-color: #00af00\">6,447,616</span> │\n",
       "├──────────────────────────────────────┼─────────────────────────────┼─────────────────┤\n",
       "│ batch_normalization_27               │ (<span style=\"color: #00d7ff; text-decoration-color: #00d7ff\">None</span>, <span style=\"color: #00af00; text-decoration-color: #00af00\">25088</span>)               │         <span style=\"color: #00af00; text-decoration-color: #00af00\">100,352</span> │\n",
       "│ (<span style=\"color: #0087ff; text-decoration-color: #0087ff\">BatchNormalization</span>)                 │                             │                 │\n",
       "├──────────────────────────────────────┼─────────────────────────────┼─────────────────┤\n",
       "│ reshape_6 (<span style=\"color: #0087ff; text-decoration-color: #0087ff\">Reshape</span>)                  │ (<span style=\"color: #00d7ff; text-decoration-color: #00d7ff\">None</span>, <span style=\"color: #00af00; text-decoration-color: #00af00\">14</span>, <span style=\"color: #00af00; text-decoration-color: #00af00\">14</span>, <span style=\"color: #00af00; text-decoration-color: #00af00\">128</span>)         │               <span style=\"color: #00af00; text-decoration-color: #00af00\">0</span> │\n",
       "├──────────────────────────────────────┼─────────────────────────────┼─────────────────┤\n",
       "│ up_sampling2d_6 (<span style=\"color: #0087ff; text-decoration-color: #0087ff\">UpSampling2D</span>)       │ (<span style=\"color: #00d7ff; text-decoration-color: #00d7ff\">None</span>, <span style=\"color: #00af00; text-decoration-color: #00af00\">28</span>, <span style=\"color: #00af00; text-decoration-color: #00af00\">28</span>, <span style=\"color: #00af00; text-decoration-color: #00af00\">128</span>)         │               <span style=\"color: #00af00; text-decoration-color: #00af00\">0</span> │\n",
       "├──────────────────────────────────────┼─────────────────────────────┼─────────────────┤\n",
       "│ conv2d_30 (<span style=\"color: #0087ff; text-decoration-color: #0087ff\">Conv2D</span>)                   │ (<span style=\"color: #00d7ff; text-decoration-color: #00d7ff\">None</span>, <span style=\"color: #00af00; text-decoration-color: #00af00\">28</span>, <span style=\"color: #00af00; text-decoration-color: #00af00\">28</span>, <span style=\"color: #00af00; text-decoration-color: #00af00\">128</span>)         │         <span style=\"color: #00af00; text-decoration-color: #00af00\">147,584</span> │\n",
       "├──────────────────────────────────────┼─────────────────────────────┼─────────────────┤\n",
       "│ batch_normalization_28               │ (<span style=\"color: #00d7ff; text-decoration-color: #00d7ff\">None</span>, <span style=\"color: #00af00; text-decoration-color: #00af00\">28</span>, <span style=\"color: #00af00; text-decoration-color: #00af00\">28</span>, <span style=\"color: #00af00; text-decoration-color: #00af00\">128</span>)         │             <span style=\"color: #00af00; text-decoration-color: #00af00\">512</span> │\n",
       "│ (<span style=\"color: #0087ff; text-decoration-color: #0087ff\">BatchNormalization</span>)                 │                             │                 │\n",
       "├──────────────────────────────────────┼─────────────────────────────┼─────────────────┤\n",
       "│ conv2d_31 (<span style=\"color: #0087ff; text-decoration-color: #0087ff\">Conv2D</span>)                   │ (<span style=\"color: #00d7ff; text-decoration-color: #00d7ff\">None</span>, <span style=\"color: #00af00; text-decoration-color: #00af00\">28</span>, <span style=\"color: #00af00; text-decoration-color: #00af00\">28</span>, <span style=\"color: #00af00; text-decoration-color: #00af00\">64</span>)          │          <span style=\"color: #00af00; text-decoration-color: #00af00\">73,792</span> │\n",
       "├──────────────────────────────────────┼─────────────────────────────┼─────────────────┤\n",
       "│ batch_normalization_29               │ (<span style=\"color: #00d7ff; text-decoration-color: #00d7ff\">None</span>, <span style=\"color: #00af00; text-decoration-color: #00af00\">28</span>, <span style=\"color: #00af00; text-decoration-color: #00af00\">28</span>, <span style=\"color: #00af00; text-decoration-color: #00af00\">64</span>)          │             <span style=\"color: #00af00; text-decoration-color: #00af00\">256</span> │\n",
       "│ (<span style=\"color: #0087ff; text-decoration-color: #0087ff\">BatchNormalization</span>)                 │                             │                 │\n",
       "├──────────────────────────────────────┼─────────────────────────────┼─────────────────┤\n",
       "│ conv2d_32 (<span style=\"color: #0087ff; text-decoration-color: #0087ff\">Conv2D</span>)                   │ (<span style=\"color: #00d7ff; text-decoration-color: #00d7ff\">None</span>, <span style=\"color: #00af00; text-decoration-color: #00af00\">28</span>, <span style=\"color: #00af00; text-decoration-color: #00af00\">28</span>, <span style=\"color: #00af00; text-decoration-color: #00af00\">1</span>)           │             <span style=\"color: #00af00; text-decoration-color: #00af00\">577</span> │\n",
       "└──────────────────────────────────────┴─────────────────────────────┴─────────────────┘\n",
       "</pre>\n"
      ],
      "text/plain": [
       "┏━━━━━━━━━━━━━━━━━━━━━━━━━━━━━━━━━━━━━━┳━━━━━━━━━━━━━━━━━━━━━━━━━━━━━┳━━━━━━━━━━━━━━━━━┓\n",
       "┃\u001b[1m \u001b[0m\u001b[1mLayer (type)                        \u001b[0m\u001b[1m \u001b[0m┃\u001b[1m \u001b[0m\u001b[1mOutput Shape               \u001b[0m\u001b[1m \u001b[0m┃\u001b[1m \u001b[0m\u001b[1m        Param #\u001b[0m\u001b[1m \u001b[0m┃\n",
       "┡━━━━━━━━━━━━━━━━━━━━━━━━━━━━━━━━━━━━━━╇━━━━━━━━━━━━━━━━━━━━━━━━━━━━━╇━━━━━━━━━━━━━━━━━┩\n",
       "│ decoder_input (\u001b[38;5;33mInputLayer\u001b[0m)           │ (\u001b[38;5;45mNone\u001b[0m, \u001b[38;5;34m256\u001b[0m)                 │               \u001b[38;5;34m0\u001b[0m │\n",
       "├──────────────────────────────────────┼─────────────────────────────┼─────────────────┤\n",
       "│ dense_6 (\u001b[38;5;33mDense\u001b[0m)                      │ (\u001b[38;5;45mNone\u001b[0m, \u001b[38;5;34m25088\u001b[0m)               │       \u001b[38;5;34m6,447,616\u001b[0m │\n",
       "├──────────────────────────────────────┼─────────────────────────────┼─────────────────┤\n",
       "│ batch_normalization_27               │ (\u001b[38;5;45mNone\u001b[0m, \u001b[38;5;34m25088\u001b[0m)               │         \u001b[38;5;34m100,352\u001b[0m │\n",
       "│ (\u001b[38;5;33mBatchNormalization\u001b[0m)                 │                             │                 │\n",
       "├──────────────────────────────────────┼─────────────────────────────┼─────────────────┤\n",
       "│ reshape_6 (\u001b[38;5;33mReshape\u001b[0m)                  │ (\u001b[38;5;45mNone\u001b[0m, \u001b[38;5;34m14\u001b[0m, \u001b[38;5;34m14\u001b[0m, \u001b[38;5;34m128\u001b[0m)         │               \u001b[38;5;34m0\u001b[0m │\n",
       "├──────────────────────────────────────┼─────────────────────────────┼─────────────────┤\n",
       "│ up_sampling2d_6 (\u001b[38;5;33mUpSampling2D\u001b[0m)       │ (\u001b[38;5;45mNone\u001b[0m, \u001b[38;5;34m28\u001b[0m, \u001b[38;5;34m28\u001b[0m, \u001b[38;5;34m128\u001b[0m)         │               \u001b[38;5;34m0\u001b[0m │\n",
       "├──────────────────────────────────────┼─────────────────────────────┼─────────────────┤\n",
       "│ conv2d_30 (\u001b[38;5;33mConv2D\u001b[0m)                   │ (\u001b[38;5;45mNone\u001b[0m, \u001b[38;5;34m28\u001b[0m, \u001b[38;5;34m28\u001b[0m, \u001b[38;5;34m128\u001b[0m)         │         \u001b[38;5;34m147,584\u001b[0m │\n",
       "├──────────────────────────────────────┼─────────────────────────────┼─────────────────┤\n",
       "│ batch_normalization_28               │ (\u001b[38;5;45mNone\u001b[0m, \u001b[38;5;34m28\u001b[0m, \u001b[38;5;34m28\u001b[0m, \u001b[38;5;34m128\u001b[0m)         │             \u001b[38;5;34m512\u001b[0m │\n",
       "│ (\u001b[38;5;33mBatchNormalization\u001b[0m)                 │                             │                 │\n",
       "├──────────────────────────────────────┼─────────────────────────────┼─────────────────┤\n",
       "│ conv2d_31 (\u001b[38;5;33mConv2D\u001b[0m)                   │ (\u001b[38;5;45mNone\u001b[0m, \u001b[38;5;34m28\u001b[0m, \u001b[38;5;34m28\u001b[0m, \u001b[38;5;34m64\u001b[0m)          │          \u001b[38;5;34m73,792\u001b[0m │\n",
       "├──────────────────────────────────────┼─────────────────────────────┼─────────────────┤\n",
       "│ batch_normalization_29               │ (\u001b[38;5;45mNone\u001b[0m, \u001b[38;5;34m28\u001b[0m, \u001b[38;5;34m28\u001b[0m, \u001b[38;5;34m64\u001b[0m)          │             \u001b[38;5;34m256\u001b[0m │\n",
       "│ (\u001b[38;5;33mBatchNormalization\u001b[0m)                 │                             │                 │\n",
       "├──────────────────────────────────────┼─────────────────────────────┼─────────────────┤\n",
       "│ conv2d_32 (\u001b[38;5;33mConv2D\u001b[0m)                   │ (\u001b[38;5;45mNone\u001b[0m, \u001b[38;5;34m28\u001b[0m, \u001b[38;5;34m28\u001b[0m, \u001b[38;5;34m1\u001b[0m)           │             \u001b[38;5;34m577\u001b[0m │\n",
       "└──────────────────────────────────────┴─────────────────────────────┴─────────────────┘\n"
      ]
     },
     "metadata": {},
     "output_type": "display_data"
    },
    {
     "data": {
      "text/html": [
       "<pre style=\"white-space:pre;overflow-x:auto;line-height:normal;font-family:Menlo,'DejaVu Sans Mono',consolas,'Courier New',monospace\"><span style=\"font-weight: bold\"> Total params: </span><span style=\"color: #00af00; text-decoration-color: #00af00\">6,770,689</span> (25.83 MB)\n",
       "</pre>\n"
      ],
      "text/plain": [
       "\u001b[1m Total params: \u001b[0m\u001b[38;5;34m6,770,689\u001b[0m (25.83 MB)\n"
      ]
     },
     "metadata": {},
     "output_type": "display_data"
    },
    {
     "data": {
      "text/html": [
       "<pre style=\"white-space:pre;overflow-x:auto;line-height:normal;font-family:Menlo,'DejaVu Sans Mono',consolas,'Courier New',monospace\"><span style=\"font-weight: bold\"> Trainable params: </span><span style=\"color: #00af00; text-decoration-color: #00af00\">6,720,129</span> (25.64 MB)\n",
       "</pre>\n"
      ],
      "text/plain": [
       "\u001b[1m Trainable params: \u001b[0m\u001b[38;5;34m6,720,129\u001b[0m (25.64 MB)\n"
      ]
     },
     "metadata": {},
     "output_type": "display_data"
    },
    {
     "data": {
      "text/html": [
       "<pre style=\"white-space:pre;overflow-x:auto;line-height:normal;font-family:Menlo,'DejaVu Sans Mono',consolas,'Courier New',monospace\"><span style=\"font-weight: bold\"> Non-trainable params: </span><span style=\"color: #00af00; text-decoration-color: #00af00\">50,560</span> (197.50 KB)\n",
       "</pre>\n"
      ],
      "text/plain": [
       "\u001b[1m Non-trainable params: \u001b[0m\u001b[38;5;34m50,560\u001b[0m (197.50 KB)\n"
      ]
     },
     "metadata": {},
     "output_type": "display_data"
    }
   ],
   "source": [
    "print(\"Modified Decoder Summary:\")\n",
    "best_model.decoder.summary()"
   ]
  },
  {
   "cell_type": "code",
   "execution_count": 30,
   "id": "81118e0e",
   "metadata": {
    "execution": {
     "iopub.execute_input": "2025-01-23T04:40:59.144728Z",
     "iopub.status.busy": "2025-01-23T04:40:59.144468Z",
     "iopub.status.idle": "2025-01-23T04:40:59.159875Z",
     "shell.execute_reply": "2025-01-23T04:40:59.159205Z"
    },
    "papermill": {
     "duration": 0.078704,
     "end_time": "2025-01-23T04:40:59.161085",
     "exception": false,
     "start_time": "2025-01-23T04:40:59.082381",
     "status": "completed"
    },
    "tags": []
   },
   "outputs": [
    {
     "name": "stdout",
     "output_type": "stream",
     "text": [
      "Modified Autoencoder Summary:\n"
     ]
    },
    {
     "data": {
      "text/html": [
       "<pre style=\"white-space:pre;overflow-x:auto;line-height:normal;font-family:Menlo,'DejaVu Sans Mono',consolas,'Courier New',monospace\"><span style=\"font-weight: bold\">Model: \"autoencoder\"</span>\n",
       "</pre>\n"
      ],
      "text/plain": [
       "\u001b[1mModel: \"autoencoder\"\u001b[0m\n"
      ]
     },
     "metadata": {},
     "output_type": "display_data"
    },
    {
     "data": {
      "text/html": [
       "<pre style=\"white-space:pre;overflow-x:auto;line-height:normal;font-family:Menlo,'DejaVu Sans Mono',consolas,'Courier New',monospace\">┏━━━━━━━━━━━━━━━━━━━━━━━━━━━━━━━━━━━━━━┳━━━━━━━━━━━━━━━━━━━━━━━━━━━━━┳━━━━━━━━━━━━━━━━━┓\n",
       "┃<span style=\"font-weight: bold\"> Layer (type)                         </span>┃<span style=\"font-weight: bold\"> Output Shape                </span>┃<span style=\"font-weight: bold\">         Param # </span>┃\n",
       "┡━━━━━━━━━━━━━━━━━━━━━━━━━━━━━━━━━━━━━━╇━━━━━━━━━━━━━━━━━━━━━━━━━━━━━╇━━━━━━━━━━━━━━━━━┩\n",
       "│ autoencoder_input (<span style=\"color: #0087ff; text-decoration-color: #0087ff\">InputLayer</span>)       │ (<span style=\"color: #00d7ff; text-decoration-color: #00d7ff\">None</span>, <span style=\"color: #00af00; text-decoration-color: #00af00\">28</span>, <span style=\"color: #00af00; text-decoration-color: #00af00\">28</span>, <span style=\"color: #00af00; text-decoration-color: #00af00\">1</span>)           │               <span style=\"color: #00af00; text-decoration-color: #00af00\">0</span> │\n",
       "├──────────────────────────────────────┼─────────────────────────────┼─────────────────┤\n",
       "│ encoder (<span style=\"color: #0087ff; text-decoration-color: #0087ff\">Functional</span>)                 │ (<span style=\"color: #00d7ff; text-decoration-color: #00d7ff\">None</span>, <span style=\"color: #00af00; text-decoration-color: #00af00\">256</span>)                 │       <span style=\"color: #00af00; text-decoration-color: #00af00\">6,498,048</span> │\n",
       "├──────────────────────────────────────┼─────────────────────────────┼─────────────────┤\n",
       "│ decoder (<span style=\"color: #0087ff; text-decoration-color: #0087ff\">Functional</span>)                 │ (<span style=\"color: #00d7ff; text-decoration-color: #00d7ff\">None</span>, <span style=\"color: #00af00; text-decoration-color: #00af00\">28</span>, <span style=\"color: #00af00; text-decoration-color: #00af00\">28</span>, <span style=\"color: #00af00; text-decoration-color: #00af00\">1</span>)           │       <span style=\"color: #00af00; text-decoration-color: #00af00\">6,770,689</span> │\n",
       "└──────────────────────────────────────┴─────────────────────────────┴─────────────────┘\n",
       "</pre>\n"
      ],
      "text/plain": [
       "┏━━━━━━━━━━━━━━━━━━━━━━━━━━━━━━━━━━━━━━┳━━━━━━━━━━━━━━━━━━━━━━━━━━━━━┳━━━━━━━━━━━━━━━━━┓\n",
       "┃\u001b[1m \u001b[0m\u001b[1mLayer (type)                        \u001b[0m\u001b[1m \u001b[0m┃\u001b[1m \u001b[0m\u001b[1mOutput Shape               \u001b[0m\u001b[1m \u001b[0m┃\u001b[1m \u001b[0m\u001b[1m        Param #\u001b[0m\u001b[1m \u001b[0m┃\n",
       "┡━━━━━━━━━━━━━━━━━━━━━━━━━━━━━━━━━━━━━━╇━━━━━━━━━━━━━━━━━━━━━━━━━━━━━╇━━━━━━━━━━━━━━━━━┩\n",
       "│ autoencoder_input (\u001b[38;5;33mInputLayer\u001b[0m)       │ (\u001b[38;5;45mNone\u001b[0m, \u001b[38;5;34m28\u001b[0m, \u001b[38;5;34m28\u001b[0m, \u001b[38;5;34m1\u001b[0m)           │               \u001b[38;5;34m0\u001b[0m │\n",
       "├──────────────────────────────────────┼─────────────────────────────┼─────────────────┤\n",
       "│ encoder (\u001b[38;5;33mFunctional\u001b[0m)                 │ (\u001b[38;5;45mNone\u001b[0m, \u001b[38;5;34m256\u001b[0m)                 │       \u001b[38;5;34m6,498,048\u001b[0m │\n",
       "├──────────────────────────────────────┼─────────────────────────────┼─────────────────┤\n",
       "│ decoder (\u001b[38;5;33mFunctional\u001b[0m)                 │ (\u001b[38;5;45mNone\u001b[0m, \u001b[38;5;34m28\u001b[0m, \u001b[38;5;34m28\u001b[0m, \u001b[38;5;34m1\u001b[0m)           │       \u001b[38;5;34m6,770,689\u001b[0m │\n",
       "└──────────────────────────────────────┴─────────────────────────────┴─────────────────┘\n"
      ]
     },
     "metadata": {},
     "output_type": "display_data"
    },
    {
     "data": {
      "text/html": [
       "<pre style=\"white-space:pre;overflow-x:auto;line-height:normal;font-family:Menlo,'DejaVu Sans Mono',consolas,'Courier New',monospace\"><span style=\"font-weight: bold\"> Total params: </span><span style=\"color: #00af00; text-decoration-color: #00af00\">39,704,325</span> (151.46 MB)\n",
       "</pre>\n"
      ],
      "text/plain": [
       "\u001b[1m Total params: \u001b[0m\u001b[38;5;34m39,704,325\u001b[0m (151.46 MB)\n"
      ]
     },
     "metadata": {},
     "output_type": "display_data"
    },
    {
     "data": {
      "text/html": [
       "<pre style=\"white-space:pre;overflow-x:auto;line-height:normal;font-family:Menlo,'DejaVu Sans Mono',consolas,'Courier New',monospace\"><span style=\"font-weight: bold\"> Trainable params: </span><span style=\"color: #00af00; text-decoration-color: #00af00\">13,217,793</span> (50.42 MB)\n",
       "</pre>\n"
      ],
      "text/plain": [
       "\u001b[1m Trainable params: \u001b[0m\u001b[38;5;34m13,217,793\u001b[0m (50.42 MB)\n"
      ]
     },
     "metadata": {},
     "output_type": "display_data"
    },
    {
     "data": {
      "text/html": [
       "<pre style=\"white-space:pre;overflow-x:auto;line-height:normal;font-family:Menlo,'DejaVu Sans Mono',consolas,'Courier New',monospace\"><span style=\"font-weight: bold\"> Non-trainable params: </span><span style=\"color: #00af00; text-decoration-color: #00af00\">50,944</span> (199.00 KB)\n",
       "</pre>\n"
      ],
      "text/plain": [
       "\u001b[1m Non-trainable params: \u001b[0m\u001b[38;5;34m50,944\u001b[0m (199.00 KB)\n"
      ]
     },
     "metadata": {},
     "output_type": "display_data"
    },
    {
     "data": {
      "text/html": [
       "<pre style=\"white-space:pre;overflow-x:auto;line-height:normal;font-family:Menlo,'DejaVu Sans Mono',consolas,'Courier New',monospace\"><span style=\"font-weight: bold\"> Optimizer params: </span><span style=\"color: #00af00; text-decoration-color: #00af00\">26,435,588</span> (100.84 MB)\n",
       "</pre>\n"
      ],
      "text/plain": [
       "\u001b[1m Optimizer params: \u001b[0m\u001b[38;5;34m26,435,588\u001b[0m (100.84 MB)\n"
      ]
     },
     "metadata": {},
     "output_type": "display_data"
    }
   ],
   "source": [
    "print(\"Modified Autoencoder Summary:\")\n",
    "best_model.autoencoder.summary()"
   ]
  },
  {
   "cell_type": "code",
   "execution_count": 31,
   "id": "570becd2",
   "metadata": {
    "execution": {
     "iopub.execute_input": "2025-01-23T04:40:59.287226Z",
     "iopub.status.busy": "2025-01-23T04:40:59.286950Z",
     "iopub.status.idle": "2025-01-23T04:41:00.671244Z",
     "shell.execute_reply": "2025-01-23T04:41:00.670365Z"
    },
    "id": "39xGHWHRilm3",
    "papermill": {
     "duration": 1.448936,
     "end_time": "2025-01-23T04:41:00.672582",
     "exception": false,
     "start_time": "2025-01-23T04:40:59.223646",
     "status": "completed"
    },
    "tags": []
   },
   "outputs": [
    {
     "data": {
      "image/png": "[encoded data removed]",
      "text/plain": [
       "<Figure size 2000x600 with 30 Axes>"
      ]
     },
     "metadata": {},
     "output_type": "display_data"
    }
   ],
   "source": [
    "modified_reconstructed_images = best_model.autoencoder.predict(X_test, verbose=0)\n",
    "visualize_reconstructions(X_test, reconstructed_images, modified_reconstructed_images, n=10)"
   ]
  },
  {
   "cell_type": "code",
   "execution_count": 32,
   "id": "626d38a1",
   "metadata": {
    "execution": {
     "iopub.execute_input": "2025-01-23T04:41:00.828488Z",
     "iopub.status.busy": "2025-01-23T04:41:00.828180Z",
     "iopub.status.idle": "2025-01-23T04:41:01.124794Z",
     "shell.execute_reply": "2025-01-23T04:41:01.124092Z"
    },
    "id": "kV-7xSJ2ziUa",
    "papermill": {
     "duration": 0.371883,
     "end_time": "2025-01-23T04:41:01.126360",
     "exception": false,
     "start_time": "2025-01-23T04:41:00.754477",
     "status": "completed"
    },
    "tags": []
   },
   "outputs": [],
   "source": [
    "best_model.autoencoder.save('modified_autoencoder_model.h5')"
   ]
  }
 ],
 "metadata": {
  "colab": {
   "authorship_tag": "ABX9TyPv3+Po0IdB5mE8m2a7ODam",
   "collapsed_sections": [
    "Q6CJq74vWAIK",
    "HuU4T9CjV8-O"
   ],
   "provenance": []
  },
  "kaggle": {
   "accelerator": "gpu",
   "dataSources": [],
   "dockerImageVersionId": 30840,
   "isGpuEnabled": true,
   "isInternetEnabled": true,
   "language": "python",
   "sourceType": "notebook"
  },
  "kernelspec": {
   "display_name": "Python 3",
   "language": "python",
   "name": "python3"
  },
  "language_info": {
   "codemirror_mode": {
    "name": "ipython",
    "version": 3
   },
   "file_extension": ".py",
   "mimetype": "text/x-python",
   "name": "python",
   "nbconvert_exporter": "python",
   "pygments_lexer": "ipython3",
   "version": "3.10.12"
  },
  "papermill": {
   "default_parameters": {},
   "duration": 1980.543461,
   "end_time": "2025-01-23T04:41:04.247457",
   "environment_variables": {},
   "exception": null,
   "input_path": "__notebook__.ipynb",
   "output_path": "__notebook__.ipynb",
   "parameters": {},
   "start_time": "2025-01-23T04:08:03.703996",
   "version": "2.6.0"
  }
 },
 "nbformat": 4,
 "nbformat_minor": 5
}
